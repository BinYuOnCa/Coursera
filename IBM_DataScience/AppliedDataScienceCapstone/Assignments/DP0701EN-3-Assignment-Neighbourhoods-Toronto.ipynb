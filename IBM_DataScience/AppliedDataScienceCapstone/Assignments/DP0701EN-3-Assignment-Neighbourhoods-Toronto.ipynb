{
 "cells": [
  {
   "cell_type": "markdown",
   "metadata": {},
   "source": [
    "# Segmenting and Clustering Neighborhoods in Toronto\n",
    "\n",
    "This is Peer-graded Assignment for Course Applied Data Science Capstone, Week 3 \n",
    "\n"
   ]
  },
  {
   "cell_type": "markdown",
   "metadata": {},
   "source": [
    "It Contains three parts coresponding the three submit, just click the link below:\n",
    "\n",
    "- [Scrape neighborhoods in Toronto](#0)<br>\n",
    "- [Fetching Location data of each neighborhood](#2)<br>\n",
    "- [Neighbourhoods Clustering Analysis](#5)<br>"
   ]
  },
  {
   "cell_type": "code",
   "execution_count": 1,
   "metadata": {},
   "outputs": [],
   "source": [
    "import pandas as pd\n",
    "import numpy as np\n",
    "import requests\n"
   ]
  },
  {
   "cell_type": "markdown",
   "metadata": {},
   "source": [
    "## Scrape neighborhoods in Toronto <a id=\"0\"></a>"
   ]
  },
  {
   "cell_type": "markdown",
   "metadata": {},
   "source": [
    "**Step(1)** We get all possible tables in the Wiki page via pandas function **read_html**:"
   ]
  },
  {
   "cell_type": "code",
   "execution_count": 2,
   "metadata": {},
   "outputs": [],
   "source": [
    "url = 'https://en.wikipedia.org/wiki/List_of_postal_codes_of_Canada:_M'\n",
    "res = requests.get(url)\n",
    "dfs = pd.read_html(url)"
   ]
  },
  {
   "cell_type": "markdown",
   "metadata": {},
   "source": [
    "Let's have a general idea of what we got:"
   ]
  },
  {
   "cell_type": "code",
   "execution_count": 3,
   "metadata": {},
   "outputs": [
    {
     "name": "stdout",
     "output_type": "stream",
     "text": [
      "DataFrame[0]:(180, 3)\n",
      "DataFrame[1]:(4, 18)\n",
      "DataFrame[2]:(2, 18)\n"
     ]
    }
   ],
   "source": [
    "for idx, df in enumerate(dfs):\n",
    "    print('DataFrame[{}]:{}'.format(idx, df.shape))\n",
    "    "
   ]
  },
  {
   "cell_type": "markdown",
   "metadata": {},
   "source": [
    "It's easy to guess that **ONLY** the first dataframe is what we need, which has 180 rows and 3 columns.\n",
    "\n",
    "Let's verify our thought by reviewing the first 5 rows:"
   ]
  },
  {
   "cell_type": "code",
   "execution_count": 4,
   "metadata": {},
   "outputs": [
    {
     "data": {
      "text/html": [
       "<div>\n",
       "<style scoped>\n",
       "    .dataframe tbody tr th:only-of-type {\n",
       "        vertical-align: middle;\n",
       "    }\n",
       "\n",
       "    .dataframe tbody tr th {\n",
       "        vertical-align: top;\n",
       "    }\n",
       "\n",
       "    .dataframe thead th {\n",
       "        text-align: right;\n",
       "    }\n",
       "</style>\n",
       "<table border=\"1\" class=\"dataframe\">\n",
       "  <thead>\n",
       "    <tr style=\"text-align: right;\">\n",
       "      <th></th>\n",
       "      <th>Postal code</th>\n",
       "      <th>Borough</th>\n",
       "      <th>Neighborhood</th>\n",
       "    </tr>\n",
       "  </thead>\n",
       "  <tbody>\n",
       "    <tr>\n",
       "      <th>0</th>\n",
       "      <td>M1A</td>\n",
       "      <td>Not assigned</td>\n",
       "      <td>NaN</td>\n",
       "    </tr>\n",
       "    <tr>\n",
       "      <th>1</th>\n",
       "      <td>M2A</td>\n",
       "      <td>Not assigned</td>\n",
       "      <td>NaN</td>\n",
       "    </tr>\n",
       "    <tr>\n",
       "      <th>2</th>\n",
       "      <td>M3A</td>\n",
       "      <td>North York</td>\n",
       "      <td>Parkwoods</td>\n",
       "    </tr>\n",
       "    <tr>\n",
       "      <th>3</th>\n",
       "      <td>M4A</td>\n",
       "      <td>North York</td>\n",
       "      <td>Victoria Village</td>\n",
       "    </tr>\n",
       "    <tr>\n",
       "      <th>4</th>\n",
       "      <td>M5A</td>\n",
       "      <td>Downtown Toronto</td>\n",
       "      <td>Regent Park / Harbourfront</td>\n",
       "    </tr>\n",
       "  </tbody>\n",
       "</table>\n",
       "</div>"
      ],
      "text/plain": [
       "  Postal code           Borough                Neighborhood\n",
       "0         M1A      Not assigned                         NaN\n",
       "1         M2A      Not assigned                         NaN\n",
       "2         M3A        North York                   Parkwoods\n",
       "3         M4A        North York            Victoria Village\n",
       "4         M5A  Downtown Toronto  Regent Park / Harbourfront"
      ]
     },
     "execution_count": 4,
     "metadata": {},
     "output_type": "execute_result"
    }
   ],
   "source": [
    "dfs[0].head()"
   ]
  },
  {
   "cell_type": "markdown",
   "metadata": {},
   "source": [
    "Great! \n",
    "\n",
    "Let's rename the first column name to 'PostalCode' and save it into a new variable then we are done our first step."
   ]
  },
  {
   "cell_type": "code",
   "execution_count": 5,
   "metadata": {},
   "outputs": [
    {
     "data": {
      "text/html": [
       "<div>\n",
       "<style scoped>\n",
       "    .dataframe tbody tr th:only-of-type {\n",
       "        vertical-align: middle;\n",
       "    }\n",
       "\n",
       "    .dataframe tbody tr th {\n",
       "        vertical-align: top;\n",
       "    }\n",
       "\n",
       "    .dataframe thead th {\n",
       "        text-align: right;\n",
       "    }\n",
       "</style>\n",
       "<table border=\"1\" class=\"dataframe\">\n",
       "  <thead>\n",
       "    <tr style=\"text-align: right;\">\n",
       "      <th></th>\n",
       "      <th>PostalCode</th>\n",
       "      <th>Borough</th>\n",
       "      <th>Neighborhood</th>\n",
       "    </tr>\n",
       "  </thead>\n",
       "  <tbody>\n",
       "    <tr>\n",
       "      <th>0</th>\n",
       "      <td>M1A</td>\n",
       "      <td>Not assigned</td>\n",
       "      <td>NaN</td>\n",
       "    </tr>\n",
       "    <tr>\n",
       "      <th>1</th>\n",
       "      <td>M2A</td>\n",
       "      <td>Not assigned</td>\n",
       "      <td>NaN</td>\n",
       "    </tr>\n",
       "    <tr>\n",
       "      <th>2</th>\n",
       "      <td>M3A</td>\n",
       "      <td>North York</td>\n",
       "      <td>Parkwoods</td>\n",
       "    </tr>\n",
       "    <tr>\n",
       "      <th>3</th>\n",
       "      <td>M4A</td>\n",
       "      <td>North York</td>\n",
       "      <td>Victoria Village</td>\n",
       "    </tr>\n",
       "    <tr>\n",
       "      <th>4</th>\n",
       "      <td>M5A</td>\n",
       "      <td>Downtown Toronto</td>\n",
       "      <td>Regent Park / Harbourfront</td>\n",
       "    </tr>\n",
       "  </tbody>\n",
       "</table>\n",
       "</div>"
      ],
      "text/plain": [
       "  PostalCode           Borough                Neighborhood\n",
       "0        M1A      Not assigned                         NaN\n",
       "1        M2A      Not assigned                         NaN\n",
       "2        M3A        North York                   Parkwoods\n",
       "3        M4A        North York            Victoria Village\n",
       "4        M5A  Downtown Toronto  Regent Park / Harbourfront"
      ]
     },
     "execution_count": 5,
     "metadata": {},
     "output_type": "execute_result"
    }
   ],
   "source": [
    "nb_toronto = dfs[0].rename({'Postal code':'PostalCode'}, axis='columns')\n",
    "nb_toronto.head()"
   ]
  },
  {
   "cell_type": "markdown",
   "metadata": {},
   "source": [
    "Now lets move to the data clearning procedures, as described below.\n",
    "\n",
    "**Step (2)** Ignore cells with a borough that is **Not assigned.**"
   ]
  },
  {
   "cell_type": "code",
   "execution_count": 6,
   "metadata": {},
   "outputs": [
    {
     "data": {
      "text/plain": [
       "(180, 3)"
      ]
     },
     "execution_count": 6,
     "metadata": {},
     "output_type": "execute_result"
    }
   ],
   "source": [
    "nb_toronto.shape"
   ]
  },
  {
   "cell_type": "code",
   "execution_count": 7,
   "metadata": {},
   "outputs": [
    {
     "data": {
      "text/plain": [
       "(77, 3)"
      ]
     },
     "execution_count": 7,
     "metadata": {},
     "output_type": "execute_result"
    }
   ],
   "source": [
    "nb_toronto[nb_toronto['Borough']=='Not assigned'].shape"
   ]
  },
  {
   "cell_type": "code",
   "execution_count": 8,
   "metadata": {},
   "outputs": [
    {
     "data": {
      "text/plain": [
       "(103, 3)"
      ]
     },
     "execution_count": 8,
     "metadata": {},
     "output_type": "execute_result"
    }
   ],
   "source": [
    "nb_toronto = nb_toronto[nb_toronto['Borough']!='Not assigned']\n",
    "nb_toronto.shape"
   ]
  },
  {
   "cell_type": "code",
   "execution_count": 9,
   "metadata": {},
   "outputs": [
    {
     "data": {
      "text/html": [
       "<div>\n",
       "<style scoped>\n",
       "    .dataframe tbody tr th:only-of-type {\n",
       "        vertical-align: middle;\n",
       "    }\n",
       "\n",
       "    .dataframe tbody tr th {\n",
       "        vertical-align: top;\n",
       "    }\n",
       "\n",
       "    .dataframe thead th {\n",
       "        text-align: right;\n",
       "    }\n",
       "</style>\n",
       "<table border=\"1\" class=\"dataframe\">\n",
       "  <thead>\n",
       "    <tr style=\"text-align: right;\">\n",
       "      <th></th>\n",
       "      <th>PostalCode</th>\n",
       "      <th>Borough</th>\n",
       "      <th>Neighborhood</th>\n",
       "    </tr>\n",
       "  </thead>\n",
       "  <tbody>\n",
       "    <tr>\n",
       "      <th>2</th>\n",
       "      <td>M3A</td>\n",
       "      <td>North York</td>\n",
       "      <td>Parkwoods</td>\n",
       "    </tr>\n",
       "    <tr>\n",
       "      <th>3</th>\n",
       "      <td>M4A</td>\n",
       "      <td>North York</td>\n",
       "      <td>Victoria Village</td>\n",
       "    </tr>\n",
       "    <tr>\n",
       "      <th>4</th>\n",
       "      <td>M5A</td>\n",
       "      <td>Downtown Toronto</td>\n",
       "      <td>Regent Park / Harbourfront</td>\n",
       "    </tr>\n",
       "    <tr>\n",
       "      <th>5</th>\n",
       "      <td>M6A</td>\n",
       "      <td>North York</td>\n",
       "      <td>Lawrence Manor / Lawrence Heights</td>\n",
       "    </tr>\n",
       "    <tr>\n",
       "      <th>6</th>\n",
       "      <td>M7A</td>\n",
       "      <td>Downtown Toronto</td>\n",
       "      <td>Queen's Park / Ontario Provincial Government</td>\n",
       "    </tr>\n",
       "  </tbody>\n",
       "</table>\n",
       "</div>"
      ],
      "text/plain": [
       "  PostalCode           Borough                                  Neighborhood\n",
       "2        M3A        North York                                     Parkwoods\n",
       "3        M4A        North York                              Victoria Village\n",
       "4        M5A  Downtown Toronto                    Regent Park / Harbourfront\n",
       "5        M6A        North York             Lawrence Manor / Lawrence Heights\n",
       "6        M7A  Downtown Toronto  Queen's Park / Ontario Provincial Government"
      ]
     },
     "execution_count": 9,
     "metadata": {},
     "output_type": "execute_result"
    }
   ],
   "source": [
    "nb_toronto.head()"
   ]
  },
  {
   "cell_type": "markdown",
   "metadata": {},
   "source": [
    "**Step (3)** Check duplications on postal code "
   ]
  },
  {
   "cell_type": "code",
   "execution_count": 10,
   "metadata": {},
   "outputs": [
    {
     "data": {
      "text/plain": [
       "(103,)"
      ]
     },
     "execution_count": 10,
     "metadata": {},
     "output_type": "execute_result"
    }
   ],
   "source": [
    "nb_toronto['PostalCode'].unique().shape"
   ]
  },
  {
   "cell_type": "markdown",
   "metadata": {},
   "source": [
    "Since the unique number is same with the total row number, it's proved that there's no dupoication on column Postal Code.\n"
   ]
  },
  {
   "cell_type": "markdown",
   "metadata": {},
   "source": [
    "**Stpe (4)** replace '/' with ',' in neighbourhoods combination \n"
   ]
  },
  {
   "cell_type": "code",
   "execution_count": 11,
   "metadata": {},
   "outputs": [
    {
     "data": {
      "text/html": [
       "<div>\n",
       "<style scoped>\n",
       "    .dataframe tbody tr th:only-of-type {\n",
       "        vertical-align: middle;\n",
       "    }\n",
       "\n",
       "    .dataframe tbody tr th {\n",
       "        vertical-align: top;\n",
       "    }\n",
       "\n",
       "    .dataframe thead th {\n",
       "        text-align: right;\n",
       "    }\n",
       "</style>\n",
       "<table border=\"1\" class=\"dataframe\">\n",
       "  <thead>\n",
       "    <tr style=\"text-align: right;\">\n",
       "      <th></th>\n",
       "      <th>PostalCode</th>\n",
       "      <th>Borough</th>\n",
       "      <th>Neighborhood</th>\n",
       "    </tr>\n",
       "  </thead>\n",
       "  <tbody>\n",
       "    <tr>\n",
       "      <th>2</th>\n",
       "      <td>M3A</td>\n",
       "      <td>North York</td>\n",
       "      <td>Parkwoods</td>\n",
       "    </tr>\n",
       "    <tr>\n",
       "      <th>3</th>\n",
       "      <td>M4A</td>\n",
       "      <td>North York</td>\n",
       "      <td>Victoria Village</td>\n",
       "    </tr>\n",
       "    <tr>\n",
       "      <th>4</th>\n",
       "      <td>M5A</td>\n",
       "      <td>Downtown Toronto</td>\n",
       "      <td>Regent Park,Harbourfront</td>\n",
       "    </tr>\n",
       "    <tr>\n",
       "      <th>5</th>\n",
       "      <td>M6A</td>\n",
       "      <td>North York</td>\n",
       "      <td>Lawrence Manor,Lawrence Heights</td>\n",
       "    </tr>\n",
       "    <tr>\n",
       "      <th>6</th>\n",
       "      <td>M7A</td>\n",
       "      <td>Downtown Toronto</td>\n",
       "      <td>Queen's Park,Ontario Provincial Government</td>\n",
       "    </tr>\n",
       "  </tbody>\n",
       "</table>\n",
       "</div>"
      ],
      "text/plain": [
       "  PostalCode           Borough                                Neighborhood\n",
       "2        M3A        North York                                   Parkwoods\n",
       "3        M4A        North York                            Victoria Village\n",
       "4        M5A  Downtown Toronto                    Regent Park,Harbourfront\n",
       "5        M6A        North York             Lawrence Manor,Lawrence Heights\n",
       "6        M7A  Downtown Toronto  Queen's Park,Ontario Provincial Government"
      ]
     },
     "execution_count": 11,
     "metadata": {},
     "output_type": "execute_result"
    }
   ],
   "source": [
    "nb_toronto.loc[:,'Neighborhood'] = nb_toronto.apply(lambda x: x['Neighborhood'].replace(' / ',','), axis=1)\n",
    "nb_toronto.head()"
   ]
  },
  {
   "cell_type": "markdown",
   "metadata": {},
   "source": [
    "**Step (5)** copy borough to neighborhood if neighborhood is missing\n"
   ]
  },
  {
   "cell_type": "code",
   "execution_count": 12,
   "metadata": {},
   "outputs": [
    {
     "data": {
      "text/html": [
       "<div>\n",
       "<style scoped>\n",
       "    .dataframe tbody tr th:only-of-type {\n",
       "        vertical-align: middle;\n",
       "    }\n",
       "\n",
       "    .dataframe tbody tr th {\n",
       "        vertical-align: top;\n",
       "    }\n",
       "\n",
       "    .dataframe thead th {\n",
       "        text-align: right;\n",
       "    }\n",
       "</style>\n",
       "<table border=\"1\" class=\"dataframe\">\n",
       "  <thead>\n",
       "    <tr style=\"text-align: right;\">\n",
       "      <th></th>\n",
       "      <th>PostalCode</th>\n",
       "      <th>Borough</th>\n",
       "      <th>Neighborhood</th>\n",
       "    </tr>\n",
       "  </thead>\n",
       "  <tbody>\n",
       "  </tbody>\n",
       "</table>\n",
       "</div>"
      ],
      "text/plain": [
       "Empty DataFrame\n",
       "Columns: [PostalCode, Borough, Neighborhood]\n",
       "Index: []"
      ]
     },
     "execution_count": 12,
     "metadata": {},
     "output_type": "execute_result"
    }
   ],
   "source": [
    "nb_toronto[ nb_toronto['Neighborhood'] == 'Not assigned' ]"
   ]
  },
  {
   "cell_type": "markdown",
   "metadata": {},
   "source": [
    "Looks we do not have any rows with **Not assigned** neighbourhood.\n",
    "\n",
    "To be more safe, also check **None** value for the column:"
   ]
  },
  {
   "cell_type": "code",
   "execution_count": 13,
   "metadata": {},
   "outputs": [
    {
     "data": {
      "text/html": [
       "<div>\n",
       "<style scoped>\n",
       "    .dataframe tbody tr th:only-of-type {\n",
       "        vertical-align: middle;\n",
       "    }\n",
       "\n",
       "    .dataframe tbody tr th {\n",
       "        vertical-align: top;\n",
       "    }\n",
       "\n",
       "    .dataframe thead th {\n",
       "        text-align: right;\n",
       "    }\n",
       "</style>\n",
       "<table border=\"1\" class=\"dataframe\">\n",
       "  <thead>\n",
       "    <tr style=\"text-align: right;\">\n",
       "      <th></th>\n",
       "      <th>PostalCode</th>\n",
       "      <th>Borough</th>\n",
       "      <th>Neighborhood</th>\n",
       "    </tr>\n",
       "  </thead>\n",
       "  <tbody>\n",
       "  </tbody>\n",
       "</table>\n",
       "</div>"
      ],
      "text/plain": [
       "Empty DataFrame\n",
       "Columns: [PostalCode, Borough, Neighborhood]\n",
       "Index: []"
      ]
     },
     "execution_count": 13,
     "metadata": {},
     "output_type": "execute_result"
    }
   ],
   "source": [
    "nb_toronto[ nb_toronto['Neighborhood'] == None ]"
   ]
  },
  {
   "cell_type": "code",
   "execution_count": 14,
   "metadata": {},
   "outputs": [
    {
     "data": {
      "text/plain": [
       "(103, 3)"
      ]
     },
     "execution_count": 14,
     "metadata": {},
     "output_type": "execute_result"
    }
   ],
   "source": [
    "nb_toronto.shape"
   ]
  },
  {
   "cell_type": "markdown",
   "metadata": {},
   "source": [
    "We are good for this part.\n",
    "\n",
    "**This is the end of the submition of part 1.**\n",
    "\n",
    "---"
   ]
  },
  {
   "cell_type": "markdown",
   "metadata": {},
   "source": [
    "## Fetching Location data of each neighborhood<a id=\"2\"></a>"
   ]
  },
  {
   "cell_type": "markdown",
   "metadata": {},
   "source": [
    "Since the Geocoder package can be very unreliable, we use the provided csv file as our data source of the geographical coordinates of each postal code.\n",
    "\n",
    "**Step (1)** Read the data from the given URL."
   ]
  },
  {
   "cell_type": "code",
   "execution_count": 15,
   "metadata": {},
   "outputs": [
    {
     "name": "stdout",
     "output_type": "stream",
     "text": [
      "(103, 3)\n"
     ]
    },
    {
     "data": {
      "text/html": [
       "<div>\n",
       "<style scoped>\n",
       "    .dataframe tbody tr th:only-of-type {\n",
       "        vertical-align: middle;\n",
       "    }\n",
       "\n",
       "    .dataframe tbody tr th {\n",
       "        vertical-align: top;\n",
       "    }\n",
       "\n",
       "    .dataframe thead th {\n",
       "        text-align: right;\n",
       "    }\n",
       "</style>\n",
       "<table border=\"1\" class=\"dataframe\">\n",
       "  <thead>\n",
       "    <tr style=\"text-align: right;\">\n",
       "      <th></th>\n",
       "      <th>Postal Code</th>\n",
       "      <th>Latitude</th>\n",
       "      <th>Longitude</th>\n",
       "    </tr>\n",
       "  </thead>\n",
       "  <tbody>\n",
       "    <tr>\n",
       "      <th>0</th>\n",
       "      <td>M1B</td>\n",
       "      <td>43.806686</td>\n",
       "      <td>-79.194353</td>\n",
       "    </tr>\n",
       "    <tr>\n",
       "      <th>1</th>\n",
       "      <td>M1C</td>\n",
       "      <td>43.784535</td>\n",
       "      <td>-79.160497</td>\n",
       "    </tr>\n",
       "    <tr>\n",
       "      <th>2</th>\n",
       "      <td>M1E</td>\n",
       "      <td>43.763573</td>\n",
       "      <td>-79.188711</td>\n",
       "    </tr>\n",
       "    <tr>\n",
       "      <th>3</th>\n",
       "      <td>M1G</td>\n",
       "      <td>43.770992</td>\n",
       "      <td>-79.216917</td>\n",
       "    </tr>\n",
       "    <tr>\n",
       "      <th>4</th>\n",
       "      <td>M1H</td>\n",
       "      <td>43.773136</td>\n",
       "      <td>-79.239476</td>\n",
       "    </tr>\n",
       "  </tbody>\n",
       "</table>\n",
       "</div>"
      ],
      "text/plain": [
       "  Postal Code   Latitude  Longitude\n",
       "0         M1B  43.806686 -79.194353\n",
       "1         M1C  43.784535 -79.160497\n",
       "2         M1E  43.763573 -79.188711\n",
       "3         M1G  43.770992 -79.216917\n",
       "4         M1H  43.773136 -79.239476"
      ]
     },
     "execution_count": 15,
     "metadata": {},
     "output_type": "execute_result"
    }
   ],
   "source": [
    "url = 'http://cocl.us/Geospatial_data'\n",
    "geo_df = pd.read_csv(url)\n",
    "print(geo_df.shape)\n",
    "geo_df.head()"
   ]
  },
  {
   "cell_type": "code",
   "execution_count": 16,
   "metadata": {},
   "outputs": [
    {
     "data": {
      "text/plain": [
       "Postal Code     object\n",
       "Latitude       float64\n",
       "Longitude      float64\n",
       "dtype: object"
      ]
     },
     "execution_count": 16,
     "metadata": {},
     "output_type": "execute_result"
    }
   ],
   "source": [
    "geo_df.dtypes"
   ]
  },
  {
   "cell_type": "markdown",
   "metadata": {},
   "source": [
    "To keep consistance, we removed the space in column name 'Postal Code'."
   ]
  },
  {
   "cell_type": "code",
   "execution_count": 17,
   "metadata": {},
   "outputs": [
    {
     "data": {
      "text/html": [
       "<div>\n",
       "<style scoped>\n",
       "    .dataframe tbody tr th:only-of-type {\n",
       "        vertical-align: middle;\n",
       "    }\n",
       "\n",
       "    .dataframe tbody tr th {\n",
       "        vertical-align: top;\n",
       "    }\n",
       "\n",
       "    .dataframe thead th {\n",
       "        text-align: right;\n",
       "    }\n",
       "</style>\n",
       "<table border=\"1\" class=\"dataframe\">\n",
       "  <thead>\n",
       "    <tr style=\"text-align: right;\">\n",
       "      <th></th>\n",
       "      <th>PostalCode</th>\n",
       "      <th>Latitude</th>\n",
       "      <th>Longitude</th>\n",
       "    </tr>\n",
       "  </thead>\n",
       "  <tbody>\n",
       "    <tr>\n",
       "      <th>0</th>\n",
       "      <td>M1B</td>\n",
       "      <td>43.806686</td>\n",
       "      <td>-79.194353</td>\n",
       "    </tr>\n",
       "    <tr>\n",
       "      <th>1</th>\n",
       "      <td>M1C</td>\n",
       "      <td>43.784535</td>\n",
       "      <td>-79.160497</td>\n",
       "    </tr>\n",
       "    <tr>\n",
       "      <th>2</th>\n",
       "      <td>M1E</td>\n",
       "      <td>43.763573</td>\n",
       "      <td>-79.188711</td>\n",
       "    </tr>\n",
       "    <tr>\n",
       "      <th>3</th>\n",
       "      <td>M1G</td>\n",
       "      <td>43.770992</td>\n",
       "      <td>-79.216917</td>\n",
       "    </tr>\n",
       "    <tr>\n",
       "      <th>4</th>\n",
       "      <td>M1H</td>\n",
       "      <td>43.773136</td>\n",
       "      <td>-79.239476</td>\n",
       "    </tr>\n",
       "  </tbody>\n",
       "</table>\n",
       "</div>"
      ],
      "text/plain": [
       "  PostalCode   Latitude  Longitude\n",
       "0        M1B  43.806686 -79.194353\n",
       "1        M1C  43.784535 -79.160497\n",
       "2        M1E  43.763573 -79.188711\n",
       "3        M1G  43.770992 -79.216917\n",
       "4        M1H  43.773136 -79.239476"
      ]
     },
     "execution_count": 17,
     "metadata": {},
     "output_type": "execute_result"
    }
   ],
   "source": [
    "geo_df.rename({'Postal Code':'PostalCode'}, axis=1, inplace=True)\n",
    "geo_df.head()"
   ]
  },
  {
   "cell_type": "markdown",
   "metadata": {},
   "source": [
    "**Step (2)** Merge it into the neibourhood data frame **nb_toronto** which we already populated in previous part."
   ]
  },
  {
   "cell_type": "code",
   "execution_count": 18,
   "metadata": {},
   "outputs": [
    {
     "name": "stdout",
     "output_type": "stream",
     "text": [
      "(103, 5)\n"
     ]
    },
    {
     "data": {
      "text/html": [
       "<div>\n",
       "<style scoped>\n",
       "    .dataframe tbody tr th:only-of-type {\n",
       "        vertical-align: middle;\n",
       "    }\n",
       "\n",
       "    .dataframe tbody tr th {\n",
       "        vertical-align: top;\n",
       "    }\n",
       "\n",
       "    .dataframe thead th {\n",
       "        text-align: right;\n",
       "    }\n",
       "</style>\n",
       "<table border=\"1\" class=\"dataframe\">\n",
       "  <thead>\n",
       "    <tr style=\"text-align: right;\">\n",
       "      <th></th>\n",
       "      <th>PostalCode</th>\n",
       "      <th>Borough</th>\n",
       "      <th>Neighborhood</th>\n",
       "      <th>Latitude</th>\n",
       "      <th>Longitude</th>\n",
       "    </tr>\n",
       "  </thead>\n",
       "  <tbody>\n",
       "    <tr>\n",
       "      <th>0</th>\n",
       "      <td>M3A</td>\n",
       "      <td>North York</td>\n",
       "      <td>Parkwoods</td>\n",
       "      <td>43.753259</td>\n",
       "      <td>-79.329656</td>\n",
       "    </tr>\n",
       "    <tr>\n",
       "      <th>1</th>\n",
       "      <td>M4A</td>\n",
       "      <td>North York</td>\n",
       "      <td>Victoria Village</td>\n",
       "      <td>43.725882</td>\n",
       "      <td>-79.315572</td>\n",
       "    </tr>\n",
       "    <tr>\n",
       "      <th>2</th>\n",
       "      <td>M5A</td>\n",
       "      <td>Downtown Toronto</td>\n",
       "      <td>Regent Park,Harbourfront</td>\n",
       "      <td>43.654260</td>\n",
       "      <td>-79.360636</td>\n",
       "    </tr>\n",
       "    <tr>\n",
       "      <th>3</th>\n",
       "      <td>M6A</td>\n",
       "      <td>North York</td>\n",
       "      <td>Lawrence Manor,Lawrence Heights</td>\n",
       "      <td>43.718518</td>\n",
       "      <td>-79.464763</td>\n",
       "    </tr>\n",
       "    <tr>\n",
       "      <th>4</th>\n",
       "      <td>M7A</td>\n",
       "      <td>Downtown Toronto</td>\n",
       "      <td>Queen's Park,Ontario Provincial Government</td>\n",
       "      <td>43.662301</td>\n",
       "      <td>-79.389494</td>\n",
       "    </tr>\n",
       "  </tbody>\n",
       "</table>\n",
       "</div>"
      ],
      "text/plain": [
       "  PostalCode           Borough                                Neighborhood  \\\n",
       "0        M3A        North York                                   Parkwoods   \n",
       "1        M4A        North York                            Victoria Village   \n",
       "2        M5A  Downtown Toronto                    Regent Park,Harbourfront   \n",
       "3        M6A        North York             Lawrence Manor,Lawrence Heights   \n",
       "4        M7A  Downtown Toronto  Queen's Park,Ontario Provincial Government   \n",
       "\n",
       "    Latitude  Longitude  \n",
       "0  43.753259 -79.329656  \n",
       "1  43.725882 -79.315572  \n",
       "2  43.654260 -79.360636  \n",
       "3  43.718518 -79.464763  \n",
       "4  43.662301 -79.389494  "
      ]
     },
     "execution_count": 18,
     "metadata": {},
     "output_type": "execute_result"
    }
   ],
   "source": [
    "nb_toronto_geo = pd.merge(nb_toronto, geo_df, on = ['PostalCode'])\n",
    "print(nb_toronto_geo.shape)\n",
    "nb_toronto_geo.head()"
   ]
  },
  {
   "cell_type": "markdown",
   "metadata": {},
   "source": [
    "\n",
    "**This is the end of the submition of part 2.**\n",
    "\n",
    "***\n"
   ]
  },
  {
   "cell_type": "markdown",
   "metadata": {},
   "source": [
    "## Neighbourhoods Clustering Analysis<a id=\"5\"></a>"
   ]
  },
  {
   "cell_type": "code",
   "execution_count": 19,
   "metadata": {},
   "outputs": [],
   "source": [
    "import matplotlib.cm as cm\n",
    "import matplotlib.colors as colors\n",
    "\n",
    "from sklearn.cluster import KMeans\n",
    "import folium # map rendering library\n"
   ]
  },
  {
   "cell_type": "markdown",
   "metadata": {},
   "source": [
    "**Step (1)** Let's first get a general idea about those neibourhoods in Toronto on map, just list all of them there."
   ]
  },
  {
   "cell_type": "code",
   "execution_count": 20,
   "metadata": {},
   "outputs": [
    {
     "data": {
      "text/plain": [
       "(43.71926920000001, -79.38815804999999)"
      ]
     },
     "execution_count": 20,
     "metadata": {},
     "output_type": "execute_result"
    }
   ],
   "source": [
    "lat, lng = geo_df[['Latitude','Longitude']].max() + geo_df[['Latitude','Longitude']].min() \n",
    "\n",
    "lat, lng  = lat /2, lng /2 \n",
    "lat, lng"
   ]
  },
  {
   "cell_type": "code",
   "execution_count": 21,
   "metadata": {
    "scrolled": false
   },
   "outputs": [
    {
     "data": {
      "text/html": [
       "<div style=\"width:100%;\"><div style=\"position:relative;width:100%;height:0;padding-bottom:60%;\"><iframe src=\"about:blank\" style=\"position:absolute;width:100%;height:100%;left:0;top:0;border:none !important;\" data-html=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 onload=\"this.contentDocument.open();this.contentDocument.write(atob(this.getAttribute('data-html')));this.contentDocument.close();\" allowfullscreen webkitallowfullscreen mozallowfullscreen></iframe></div></div>"
      ],
      "text/plain": [
       "<folium.folium.Map at 0x7f5580b68198>"
      ]
     },
     "execution_count": 21,
     "metadata": {},
     "output_type": "execute_result"
    }
   ],
   "source": [
    "# create map of New York using latitude and longitude values\n",
    "map_toronto = folium.Map(location=[lat, lng], zoom_start=11)\n",
    "\n",
    "# add markers to map\n",
    "for idx, r  in nb_toronto_geo.iterrows():\n",
    "    lat, lng, bor, nb  =  r['Latitude'], r['Longitude'],r['Borough'], r['Neighborhood']\n",
    "    label = '{}, {}'.format(nb, bor)\n",
    "    label = folium.Popup(label, parse_html=True)\n",
    "    folium.CircleMarker(\n",
    "        [lat, lng],\n",
    "        radius=5,\n",
    "        popup=label,\n",
    "        color='blue',\n",
    "        fill=True,\n",
    "        fill_color='#3186cc',\n",
    "        fill_opacity=0.7,\n",
    "        parse_html=False).add_to(map_toronto)  \n",
    "    \n",
    "map_toronto"
   ]
  },
  {
   "cell_type": "markdown",
   "metadata": {},
   "source": [
    "**Step (2)** Let's focus on the borough **Downtown Toronto** only to demostrate the analysis.\n",
    "\n",
    "First we slice the orinal data frame nb_toronto_geo to nb_york, we omit the geo from the name for all data frame will have geo information from now on.\n"
   ]
  },
  {
   "cell_type": "code",
   "execution_count": 22,
   "metadata": {},
   "outputs": [
    {
     "name": "stdout",
     "output_type": "stream",
     "text": [
      "(19, 5)\n"
     ]
    },
    {
     "data": {
      "text/html": [
       "<div>\n",
       "<style scoped>\n",
       "    .dataframe tbody tr th:only-of-type {\n",
       "        vertical-align: middle;\n",
       "    }\n",
       "\n",
       "    .dataframe tbody tr th {\n",
       "        vertical-align: top;\n",
       "    }\n",
       "\n",
       "    .dataframe thead th {\n",
       "        text-align: right;\n",
       "    }\n",
       "</style>\n",
       "<table border=\"1\" class=\"dataframe\">\n",
       "  <thead>\n",
       "    <tr style=\"text-align: right;\">\n",
       "      <th></th>\n",
       "      <th>PostalCode</th>\n",
       "      <th>Borough</th>\n",
       "      <th>Neighborhood</th>\n",
       "      <th>Latitude</th>\n",
       "      <th>Longitude</th>\n",
       "    </tr>\n",
       "  </thead>\n",
       "  <tbody>\n",
       "    <tr>\n",
       "      <th>2</th>\n",
       "      <td>M5A</td>\n",
       "      <td>Downtown Toronto</td>\n",
       "      <td>Regent Park,Harbourfront</td>\n",
       "      <td>43.654260</td>\n",
       "      <td>-79.360636</td>\n",
       "    </tr>\n",
       "    <tr>\n",
       "      <th>4</th>\n",
       "      <td>M7A</td>\n",
       "      <td>Downtown Toronto</td>\n",
       "      <td>Queen's Park,Ontario Provincial Government</td>\n",
       "      <td>43.662301</td>\n",
       "      <td>-79.389494</td>\n",
       "    </tr>\n",
       "    <tr>\n",
       "      <th>9</th>\n",
       "      <td>M5B</td>\n",
       "      <td>Downtown Toronto</td>\n",
       "      <td>Garden District, Ryerson</td>\n",
       "      <td>43.657162</td>\n",
       "      <td>-79.378937</td>\n",
       "    </tr>\n",
       "    <tr>\n",
       "      <th>15</th>\n",
       "      <td>M5C</td>\n",
       "      <td>Downtown Toronto</td>\n",
       "      <td>St. James Town</td>\n",
       "      <td>43.651494</td>\n",
       "      <td>-79.375418</td>\n",
       "    </tr>\n",
       "    <tr>\n",
       "      <th>20</th>\n",
       "      <td>M5E</td>\n",
       "      <td>Downtown Toronto</td>\n",
       "      <td>Berczy Park</td>\n",
       "      <td>43.644771</td>\n",
       "      <td>-79.373306</td>\n",
       "    </tr>\n",
       "  </tbody>\n",
       "</table>\n",
       "</div>"
      ],
      "text/plain": [
       "   PostalCode           Borough                                Neighborhood  \\\n",
       "2         M5A  Downtown Toronto                    Regent Park,Harbourfront   \n",
       "4         M7A  Downtown Toronto  Queen's Park,Ontario Provincial Government   \n",
       "9         M5B  Downtown Toronto                    Garden District, Ryerson   \n",
       "15        M5C  Downtown Toronto                              St. James Town   \n",
       "20        M5E  Downtown Toronto                                 Berczy Park   \n",
       "\n",
       "     Latitude  Longitude  \n",
       "2   43.654260 -79.360636  \n",
       "4   43.662301 -79.389494  \n",
       "9   43.657162 -79.378937  \n",
       "15  43.651494 -79.375418  \n",
       "20  43.644771 -79.373306  "
      ]
     },
     "execution_count": 22,
     "metadata": {},
     "output_type": "execute_result"
    }
   ],
   "source": [
    "dt_toronto = nb_toronto_geo[nb_toronto_geo['Borough']=='Downtown Toronto']\n",
    "print(dt_toronto.shape)\n",
    "dt_toronto.head()"
   ]
  },
  {
   "cell_type": "markdown",
   "metadata": {},
   "source": [
    "Now lets show it on map"
   ]
  },
  {
   "cell_type": "code",
   "execution_count": 23,
   "metadata": {},
   "outputs": [
    {
     "data": {
      "text/plain": [
       "(43.65425465, -79.3915998)"
      ]
     },
     "execution_count": 23,
     "metadata": {},
     "output_type": "execute_result"
    }
   ],
   "source": [
    "## first we find out the center of the map\n",
    "lat, lng = dt_toronto[['Latitude','Longitude']].max() + dt_toronto[['Latitude','Longitude']].min() \n",
    "\n",
    "lat, lng  = lat /2, lng /2 \n",
    "\n",
    "lat, lng"
   ]
  },
  {
   "cell_type": "code",
   "execution_count": 24,
   "metadata": {
    "scrolled": false
   },
   "outputs": [
    {
     "data": {
      "text/html": [
       "<div style=\"width:100%;\"><div style=\"position:relative;width:100%;height:0;padding-bottom:60%;\"><iframe src=\"about:blank\" style=\"position:absolute;width:100%;height:100%;left:0;top:0;border:none !important;\" data-html=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 onload=\"this.contentDocument.open();this.contentDocument.write(atob(this.getAttribute('data-html')));this.contentDocument.close();\" allowfullscreen webkitallowfullscreen mozallowfullscreen></iframe></div></div>"
      ],
      "text/plain": [
       "<folium.folium.Map at 0x7f5590ec6208>"
      ]
     },
     "execution_count": 24,
     "metadata": {},
     "output_type": "execute_result"
    }
   ],
   "source": [
    "# create map of New York using latitude and longitude values\n",
    "map_dt_toronto = folium.Map(location=[lat, lng], zoom_start=12)\n",
    "\n",
    "# add markers to map\n",
    "for idx, r  in dt_toronto.iterrows():\n",
    "    lat, lng, bor, nb  =  r['Latitude'], r['Longitude'],r['Borough'], r['Neighborhood']\n",
    "    label = '{}, {}'.format(nb, bor)\n",
    "    label = folium.Popup(label, parse_html=True)\n",
    "    folium.CircleMarker(\n",
    "        [lat, lng],\n",
    "        radius=5,\n",
    "        popup=label,\n",
    "        color='blue',\n",
    "        fill=True,\n",
    "        fill_color='#3186cc',\n",
    "        fill_opacity=0.7,\n",
    "        parse_html=False).add_to(map_dt_toronto)  \n",
    "    \n",
    "map_dt_toronto"
   ]
  },
  {
   "cell_type": "markdown",
   "metadata": {},
   "source": [
    "**Step (3)** Define Foursqure Credentials and Version and explore the neighborhood in **Downtown Toronto**\n"
   ]
  },
  {
   "cell_type": "code",
   "execution_count": 25,
   "metadata": {},
   "outputs": [],
   "source": [
    "CLIENT_ID = 'Y5FK5TTSXY24B0DDCUJBGCWCL2B01DYMXZRFOXROSYNCSSYJ' \n",
    "CLIENT_SECRET = 'TUOXNZ2M4NVKE4BLA1N0XOV5CC54GIWOD0D4RF4A3CFMR3MV'\n",
    "VERSION = '20180605'\n"
   ]
  },
  {
   "cell_type": "markdown",
   "metadata": {},
   "source": [
    "We borrow the function **getNearbyVenues** from the course lab, but only keep the catogry for further analysis.\n",
    "\n"
   ]
  },
  {
   "cell_type": "code",
   "execution_count": 26,
   "metadata": {},
   "outputs": [],
   "source": [
    "def getNearbyVenues(df, radius = 700, LIMIT = 70):\n",
    "    \n",
    "    venues_list=[]\n",
    "    for idx, row in df.iterrows():\n",
    "        name, lat, lng = row['Neighborhood'], row['Latitude'], row['Longitude']    \n",
    "        # create the API request URL\n",
    "        url = 'https://api.foursquare.com/v2/venues/explore?&client_id={}&client_secret={}&v={}&ll={},{}&radius={}&limit={}'.format(\n",
    "            CLIENT_ID, \n",
    "            CLIENT_SECRET, \n",
    "            VERSION, \n",
    "            lat, \n",
    "            lng, \n",
    "            radius, \n",
    "            LIMIT)\n",
    "            \n",
    "        # make the GET request\n",
    "        results = requests.get(url).json()[\"response\"]['groups'][0]['items']\n",
    "        \n",
    "        # return only relevant information for each nearby venue\n",
    "        venues_list.append([(\n",
    "            name, \n",
    "            lat, \n",
    "            lng, \n",
    "            v['venue']['location']['lat'], \n",
    "            v['venue']['location']['lng'],  \n",
    "            v['venue']['categories'][0]['name']) for v in results])\n",
    "\n",
    "    nearby_venues = pd.DataFrame([item for venue_list in venues_list for item in venue_list])\n",
    "    nearby_venues.columns = ['Neighborhood Name', \n",
    "                  'Neighborhood Latitude', \n",
    "                  'Neighborhood Longitude', \n",
    "                  'Venue Latitude', \n",
    "                  'Venue Longitude', \n",
    "                  'Venue Category']\n",
    "    \n",
    "    return(nearby_venues)\n"
   ]
  },
  {
   "cell_type": "code",
   "execution_count": 27,
   "metadata": {},
   "outputs": [
    {
     "name": "stdout",
     "output_type": "stream",
     "text": [
      "(1174, 6)\n"
     ]
    }
   ],
   "source": [
    "venues_dt_toronto = getNearbyVenues( dt_toronto )\n",
    "print(venues_dt_toronto.shape)"
   ]
  },
  {
   "cell_type": "markdown",
   "metadata": {},
   "source": [
    "venues_dt_toronto.rename({'Neighborhood':'Neighborhood Name'}, axis = 1, inplace = True)\n",
    "venues_dt_toronto.columns"
   ]
  },
  {
   "cell_type": "code",
   "execution_count": 28,
   "metadata": {},
   "outputs": [
    {
     "data": {
      "text/html": [
       "<div>\n",
       "<style scoped>\n",
       "    .dataframe tbody tr th:only-of-type {\n",
       "        vertical-align: middle;\n",
       "    }\n",
       "\n",
       "    .dataframe tbody tr th {\n",
       "        vertical-align: top;\n",
       "    }\n",
       "\n",
       "    .dataframe thead th {\n",
       "        text-align: right;\n",
       "    }\n",
       "</style>\n",
       "<table border=\"1\" class=\"dataframe\">\n",
       "  <thead>\n",
       "    <tr style=\"text-align: right;\">\n",
       "      <th></th>\n",
       "      <th>Neighborhood Name</th>\n",
       "      <th>Neighborhood Latitude</th>\n",
       "      <th>Neighborhood Longitude</th>\n",
       "      <th>Venue Latitude</th>\n",
       "      <th>Venue Longitude</th>\n",
       "      <th>Venue Category</th>\n",
       "    </tr>\n",
       "  </thead>\n",
       "  <tbody>\n",
       "    <tr>\n",
       "      <th>0</th>\n",
       "      <td>Regent Park,Harbourfront</td>\n",
       "      <td>43.65426</td>\n",
       "      <td>-79.360636</td>\n",
       "      <td>43.653447</td>\n",
       "      <td>-79.362017</td>\n",
       "      <td>Bakery</td>\n",
       "    </tr>\n",
       "    <tr>\n",
       "      <th>1</th>\n",
       "      <td>Regent Park,Harbourfront</td>\n",
       "      <td>43.65426</td>\n",
       "      <td>-79.360636</td>\n",
       "      <td>43.653559</td>\n",
       "      <td>-79.361809</td>\n",
       "      <td>Coffee Shop</td>\n",
       "    </tr>\n",
       "    <tr>\n",
       "      <th>2</th>\n",
       "      <td>Regent Park,Harbourfront</td>\n",
       "      <td>43.65426</td>\n",
       "      <td>-79.360636</td>\n",
       "      <td>43.653249</td>\n",
       "      <td>-79.358008</td>\n",
       "      <td>Distribution Center</td>\n",
       "    </tr>\n",
       "    <tr>\n",
       "      <th>3</th>\n",
       "      <td>Regent Park,Harbourfront</td>\n",
       "      <td>43.65426</td>\n",
       "      <td>-79.360636</td>\n",
       "      <td>43.654735</td>\n",
       "      <td>-79.359874</td>\n",
       "      <td>Spa</td>\n",
       "    </tr>\n",
       "    <tr>\n",
       "      <th>4</th>\n",
       "      <td>Regent Park,Harbourfront</td>\n",
       "      <td>43.65426</td>\n",
       "      <td>-79.360636</td>\n",
       "      <td>43.656369</td>\n",
       "      <td>-79.356980</td>\n",
       "      <td>Restaurant</td>\n",
       "    </tr>\n",
       "  </tbody>\n",
       "</table>\n",
       "</div>"
      ],
      "text/plain": [
       "          Neighborhood Name  Neighborhood Latitude  Neighborhood Longitude  \\\n",
       "0  Regent Park,Harbourfront               43.65426              -79.360636   \n",
       "1  Regent Park,Harbourfront               43.65426              -79.360636   \n",
       "2  Regent Park,Harbourfront               43.65426              -79.360636   \n",
       "3  Regent Park,Harbourfront               43.65426              -79.360636   \n",
       "4  Regent Park,Harbourfront               43.65426              -79.360636   \n",
       "\n",
       "   Venue Latitude  Venue Longitude       Venue Category  \n",
       "0       43.653447       -79.362017               Bakery  \n",
       "1       43.653559       -79.361809          Coffee Shop  \n",
       "2       43.653249       -79.358008  Distribution Center  \n",
       "3       43.654735       -79.359874                  Spa  \n",
       "4       43.656369       -79.356980           Restaurant  "
      ]
     },
     "execution_count": 28,
     "metadata": {},
     "output_type": "execute_result"
    }
   ],
   "source": [
    "venues_dt_toronto.head()"
   ]
  },
  {
   "cell_type": "markdown",
   "metadata": {},
   "source": [
    "Lets have a whole picture by checking the numbers of venues for each neighborhood, and cateogry of venues."
   ]
  },
  {
   "cell_type": "code",
   "execution_count": 29,
   "metadata": {},
   "outputs": [
    {
     "data": {
      "text/html": [
       "<div>\n",
       "<style scoped>\n",
       "    .dataframe tbody tr th:only-of-type {\n",
       "        vertical-align: middle;\n",
       "    }\n",
       "\n",
       "    .dataframe tbody tr th {\n",
       "        vertical-align: top;\n",
       "    }\n",
       "\n",
       "    .dataframe thead th {\n",
       "        text-align: right;\n",
       "    }\n",
       "</style>\n",
       "<table border=\"1\" class=\"dataframe\">\n",
       "  <thead>\n",
       "    <tr style=\"text-align: right;\">\n",
       "      <th></th>\n",
       "      <th>Venue Category</th>\n",
       "    </tr>\n",
       "    <tr>\n",
       "      <th>Neighborhood Name</th>\n",
       "      <th></th>\n",
       "    </tr>\n",
       "  </thead>\n",
       "  <tbody>\n",
       "    <tr>\n",
       "      <th>Berczy Park</th>\n",
       "      <td>70</td>\n",
       "    </tr>\n",
       "    <tr>\n",
       "      <th>CN Tower,King and Spadina,Railway Lands,Harbourfront West,Bathurst Quay,South Niagara,Island airport</th>\n",
       "      <td>25</td>\n",
       "    </tr>\n",
       "    <tr>\n",
       "      <th>Central Bay Street</th>\n",
       "      <td>70</td>\n",
       "    </tr>\n",
       "    <tr>\n",
       "      <th>Christie</th>\n",
       "      <td>29</td>\n",
       "    </tr>\n",
       "    <tr>\n",
       "      <th>Church and Wellesley</th>\n",
       "      <td>70</td>\n",
       "    </tr>\n",
       "    <tr>\n",
       "      <th>Commerce Court,Victoria Hotel</th>\n",
       "      <td>70</td>\n",
       "    </tr>\n",
       "    <tr>\n",
       "      <th>First Canadian Place,Underground city</th>\n",
       "      <td>70</td>\n",
       "    </tr>\n",
       "    <tr>\n",
       "      <th>Garden District, Ryerson</th>\n",
       "      <td>70</td>\n",
       "    </tr>\n",
       "    <tr>\n",
       "      <th>Harbourfront East,Union Station,Toronto Islands</th>\n",
       "      <td>70</td>\n",
       "    </tr>\n",
       "    <tr>\n",
       "      <th>Kensington Market,Chinatown,Grange Park</th>\n",
       "      <td>70</td>\n",
       "    </tr>\n",
       "    <tr>\n",
       "      <th>Queen's Park,Ontario Provincial Government</th>\n",
       "      <td>65</td>\n",
       "    </tr>\n",
       "    <tr>\n",
       "      <th>Regent Park,Harbourfront</th>\n",
       "      <td>70</td>\n",
       "    </tr>\n",
       "    <tr>\n",
       "      <th>Richmond,Adelaide,King</th>\n",
       "      <td>70</td>\n",
       "    </tr>\n",
       "    <tr>\n",
       "      <th>Rosedale</th>\n",
       "      <td>5</td>\n",
       "    </tr>\n",
       "    <tr>\n",
       "      <th>St. James Town</th>\n",
       "      <td>70</td>\n",
       "    </tr>\n",
       "    <tr>\n",
       "      <th>St. James Town,Cabbagetown</th>\n",
       "      <td>70</td>\n",
       "    </tr>\n",
       "    <tr>\n",
       "      <th>Stn A PO Boxes</th>\n",
       "      <td>70</td>\n",
       "    </tr>\n",
       "    <tr>\n",
       "      <th>Toronto Dominion Centre,Design Exchange</th>\n",
       "      <td>70</td>\n",
       "    </tr>\n",
       "    <tr>\n",
       "      <th>University of Toronto,Harbord</th>\n",
       "      <td>70</td>\n",
       "    </tr>\n",
       "  </tbody>\n",
       "</table>\n",
       "</div>"
      ],
      "text/plain": [
       "                                                    Venue Category\n",
       "Neighborhood Name                                                 \n",
       "Berczy Park                                                     70\n",
       "CN Tower,King and Spadina,Railway Lands,Harbour...              25\n",
       "Central Bay Street                                              70\n",
       "Christie                                                        29\n",
       "Church and Wellesley                                            70\n",
       "Commerce Court,Victoria Hotel                                   70\n",
       "First Canadian Place,Underground city                           70\n",
       "Garden District, Ryerson                                        70\n",
       "Harbourfront East,Union Station,Toronto Islands                 70\n",
       "Kensington Market,Chinatown,Grange Park                         70\n",
       "Queen's Park,Ontario Provincial Government                      65\n",
       "Regent Park,Harbourfront                                        70\n",
       "Richmond,Adelaide,King                                          70\n",
       "Rosedale                                                         5\n",
       "St. James Town                                                  70\n",
       "St. James Town,Cabbagetown                                      70\n",
       "Stn A PO Boxes                                                  70\n",
       "Toronto Dominion Centre,Design Exchange                         70\n",
       "University of Toronto,Harbord                                   70"
      ]
     },
     "execution_count": 29,
     "metadata": {},
     "output_type": "execute_result"
    }
   ],
   "source": [
    "venues_dt_toronto[['Neighborhood Name','Venue Category']].groupby('Neighborhood Name').count()"
   ]
  },
  {
   "cell_type": "code",
   "execution_count": 30,
   "metadata": {},
   "outputs": [
    {
     "data": {
      "text/html": [
       "<div>\n",
       "<style scoped>\n",
       "    .dataframe tbody tr th:only-of-type {\n",
       "        vertical-align: middle;\n",
       "    }\n",
       "\n",
       "    .dataframe tbody tr th {\n",
       "        vertical-align: top;\n",
       "    }\n",
       "\n",
       "    .dataframe thead th {\n",
       "        text-align: right;\n",
       "    }\n",
       "</style>\n",
       "<table border=\"1\" class=\"dataframe\">\n",
       "  <thead>\n",
       "    <tr style=\"text-align: right;\">\n",
       "      <th></th>\n",
       "      <th>Neighborhood Name</th>\n",
       "    </tr>\n",
       "    <tr>\n",
       "      <th>Venue Category</th>\n",
       "      <th></th>\n",
       "    </tr>\n",
       "  </thead>\n",
       "  <tbody>\n",
       "    <tr>\n",
       "      <th>Coffee Shop</th>\n",
       "      <td>106</td>\n",
       "    </tr>\n",
       "    <tr>\n",
       "      <th>Café</th>\n",
       "      <td>75</td>\n",
       "    </tr>\n",
       "    <tr>\n",
       "      <th>Restaurant</th>\n",
       "      <td>40</td>\n",
       "    </tr>\n",
       "    <tr>\n",
       "      <th>Hotel</th>\n",
       "      <td>38</td>\n",
       "    </tr>\n",
       "    <tr>\n",
       "      <th>Japanese Restaurant</th>\n",
       "      <td>29</td>\n",
       "    </tr>\n",
       "    <tr>\n",
       "      <th>Park</th>\n",
       "      <td>29</td>\n",
       "    </tr>\n",
       "    <tr>\n",
       "      <th>Gastropub</th>\n",
       "      <td>26</td>\n",
       "    </tr>\n",
       "    <tr>\n",
       "      <th>Italian Restaurant</th>\n",
       "      <td>24</td>\n",
       "    </tr>\n",
       "    <tr>\n",
       "      <th>Bakery</th>\n",
       "      <td>21</td>\n",
       "    </tr>\n",
       "    <tr>\n",
       "      <th>Seafood Restaurant</th>\n",
       "      <td>20</td>\n",
       "    </tr>\n",
       "  </tbody>\n",
       "</table>\n",
       "</div>"
      ],
      "text/plain": [
       "                     Neighborhood Name\n",
       "Venue Category                        \n",
       "Coffee Shop                        106\n",
       "Café                                75\n",
       "Restaurant                          40\n",
       "Hotel                               38\n",
       "Japanese Restaurant                 29\n",
       "Park                                29\n",
       "Gastropub                           26\n",
       "Italian Restaurant                  24\n",
       "Bakery                              21\n",
       "Seafood Restaurant                  20"
      ]
     },
     "execution_count": 30,
     "metadata": {},
     "output_type": "execute_result"
    }
   ],
   "source": [
    "venues_dt_toronto[['Neighborhood Name','Venue Category']].groupby('Venue Category').count()\\\n",
    "               .sort_values(by='Neighborhood Name', ascending = False).head(10)"
   ]
  },
  {
   "cell_type": "markdown",
   "metadata": {},
   "source": [
    "We can tell that most common venue Category is: **Coffee Shop, Dafe, Restaurant, Hotel**, and **Park.**"
   ]
  },
  {
   "cell_type": "markdown",
   "metadata": {},
   "source": [
    "**Step(4)** Prepare venue category for Clustering"
   ]
  },
  {
   "cell_type": "markdown",
   "metadata": {},
   "source": [
    "We need apply one-hot encoding to the category column first. "
   ]
  },
  {
   "cell_type": "code",
   "execution_count": 31,
   "metadata": {},
   "outputs": [
    {
     "name": "stdout",
     "output_type": "stream",
     "text": [
      "(1174, 200)\n"
     ]
    }
   ],
   "source": [
    "dt_toronto_onehot = pd.get_dummies(venues_dt_toronto[['Venue Category']], prefix = \"\", prefix_sep=\"\")\n",
    "print(dt_toronto_onehot.shape)\n",
    "dt_toronto_clustering  = dt_toronto_onehot.copy()"
   ]
  },
  {
   "cell_type": "markdown",
   "metadata": {},
   "source": [
    "Now we put **neighborhood name** back to one-hot data frame as first column and rename it as **Name** just for convenience."
   ]
  },
  {
   "cell_type": "code",
   "execution_count": 32,
   "metadata": {},
   "outputs": [
    {
     "name": "stdout",
     "output_type": "stream",
     "text": [
      "(1174, 201)\n"
     ]
    }
   ],
   "source": [
    "dt_toronto_onehot = pd.concat( [venues_dt_toronto[['Neighborhood Name']], dt_toronto_onehot], axis= 1)\n",
    "print(dt_toronto_onehot.shape)"
   ]
  },
  {
   "cell_type": "code",
   "execution_count": 33,
   "metadata": {},
   "outputs": [
    {
     "data": {
      "text/html": [
       "<div>\n",
       "<style scoped>\n",
       "    .dataframe tbody tr th:only-of-type {\n",
       "        vertical-align: middle;\n",
       "    }\n",
       "\n",
       "    .dataframe tbody tr th {\n",
       "        vertical-align: top;\n",
       "    }\n",
       "\n",
       "    .dataframe thead th {\n",
       "        text-align: right;\n",
       "    }\n",
       "</style>\n",
       "<table border=\"1\" class=\"dataframe\">\n",
       "  <thead>\n",
       "    <tr style=\"text-align: right;\">\n",
       "      <th></th>\n",
       "      <th>Neighborhood Name</th>\n",
       "      <th>Airport</th>\n",
       "      <th>Airport Food Court</th>\n",
       "      <th>Airport Gate</th>\n",
       "      <th>Airport Lounge</th>\n",
       "      <th>Airport Service</th>\n",
       "      <th>Airport Terminal</th>\n",
       "      <th>American Restaurant</th>\n",
       "      <th>Animal Shelter</th>\n",
       "      <th>Aquarium</th>\n",
       "      <th>...</th>\n",
       "      <th>Tunnel</th>\n",
       "      <th>Udon Restaurant</th>\n",
       "      <th>University</th>\n",
       "      <th>Vegetarian / Vegan Restaurant</th>\n",
       "      <th>Video Game Store</th>\n",
       "      <th>Video Store</th>\n",
       "      <th>Vietnamese Restaurant</th>\n",
       "      <th>Wine Bar</th>\n",
       "      <th>Women's Store</th>\n",
       "      <th>Yoga Studio</th>\n",
       "    </tr>\n",
       "  </thead>\n",
       "  <tbody>\n",
       "    <tr>\n",
       "      <th>0</th>\n",
       "      <td>Regent Park,Harbourfront</td>\n",
       "      <td>0</td>\n",
       "      <td>0</td>\n",
       "      <td>0</td>\n",
       "      <td>0</td>\n",
       "      <td>0</td>\n",
       "      <td>0</td>\n",
       "      <td>0</td>\n",
       "      <td>0</td>\n",
       "      <td>0</td>\n",
       "      <td>...</td>\n",
       "      <td>0</td>\n",
       "      <td>0</td>\n",
       "      <td>0</td>\n",
       "      <td>0</td>\n",
       "      <td>0</td>\n",
       "      <td>0</td>\n",
       "      <td>0</td>\n",
       "      <td>0</td>\n",
       "      <td>0</td>\n",
       "      <td>0</td>\n",
       "    </tr>\n",
       "    <tr>\n",
       "      <th>1</th>\n",
       "      <td>Regent Park,Harbourfront</td>\n",
       "      <td>0</td>\n",
       "      <td>0</td>\n",
       "      <td>0</td>\n",
       "      <td>0</td>\n",
       "      <td>0</td>\n",
       "      <td>0</td>\n",
       "      <td>0</td>\n",
       "      <td>0</td>\n",
       "      <td>0</td>\n",
       "      <td>...</td>\n",
       "      <td>0</td>\n",
       "      <td>0</td>\n",
       "      <td>0</td>\n",
       "      <td>0</td>\n",
       "      <td>0</td>\n",
       "      <td>0</td>\n",
       "      <td>0</td>\n",
       "      <td>0</td>\n",
       "      <td>0</td>\n",
       "      <td>0</td>\n",
       "    </tr>\n",
       "    <tr>\n",
       "      <th>2</th>\n",
       "      <td>Regent Park,Harbourfront</td>\n",
       "      <td>0</td>\n",
       "      <td>0</td>\n",
       "      <td>0</td>\n",
       "      <td>0</td>\n",
       "      <td>0</td>\n",
       "      <td>0</td>\n",
       "      <td>0</td>\n",
       "      <td>0</td>\n",
       "      <td>0</td>\n",
       "      <td>...</td>\n",
       "      <td>0</td>\n",
       "      <td>0</td>\n",
       "      <td>0</td>\n",
       "      <td>0</td>\n",
       "      <td>0</td>\n",
       "      <td>0</td>\n",
       "      <td>0</td>\n",
       "      <td>0</td>\n",
       "      <td>0</td>\n",
       "      <td>0</td>\n",
       "    </tr>\n",
       "    <tr>\n",
       "      <th>3</th>\n",
       "      <td>Regent Park,Harbourfront</td>\n",
       "      <td>0</td>\n",
       "      <td>0</td>\n",
       "      <td>0</td>\n",
       "      <td>0</td>\n",
       "      <td>0</td>\n",
       "      <td>0</td>\n",
       "      <td>0</td>\n",
       "      <td>0</td>\n",
       "      <td>0</td>\n",
       "      <td>...</td>\n",
       "      <td>0</td>\n",
       "      <td>0</td>\n",
       "      <td>0</td>\n",
       "      <td>0</td>\n",
       "      <td>0</td>\n",
       "      <td>0</td>\n",
       "      <td>0</td>\n",
       "      <td>0</td>\n",
       "      <td>0</td>\n",
       "      <td>0</td>\n",
       "    </tr>\n",
       "    <tr>\n",
       "      <th>4</th>\n",
       "      <td>Regent Park,Harbourfront</td>\n",
       "      <td>0</td>\n",
       "      <td>0</td>\n",
       "      <td>0</td>\n",
       "      <td>0</td>\n",
       "      <td>0</td>\n",
       "      <td>0</td>\n",
       "      <td>0</td>\n",
       "      <td>0</td>\n",
       "      <td>0</td>\n",
       "      <td>...</td>\n",
       "      <td>0</td>\n",
       "      <td>0</td>\n",
       "      <td>0</td>\n",
       "      <td>0</td>\n",
       "      <td>0</td>\n",
       "      <td>0</td>\n",
       "      <td>0</td>\n",
       "      <td>0</td>\n",
       "      <td>0</td>\n",
       "      <td>0</td>\n",
       "    </tr>\n",
       "  </tbody>\n",
       "</table>\n",
       "<p>5 rows × 201 columns</p>\n",
       "</div>"
      ],
      "text/plain": [
       "          Neighborhood Name  Airport  Airport Food Court  Airport Gate  \\\n",
       "0  Regent Park,Harbourfront        0                   0             0   \n",
       "1  Regent Park,Harbourfront        0                   0             0   \n",
       "2  Regent Park,Harbourfront        0                   0             0   \n",
       "3  Regent Park,Harbourfront        0                   0             0   \n",
       "4  Regent Park,Harbourfront        0                   0             0   \n",
       "\n",
       "   Airport Lounge  Airport Service  Airport Terminal  American Restaurant  \\\n",
       "0               0                0                 0                    0   \n",
       "1               0                0                 0                    0   \n",
       "2               0                0                 0                    0   \n",
       "3               0                0                 0                    0   \n",
       "4               0                0                 0                    0   \n",
       "\n",
       "   Animal Shelter  Aquarium  ...  Tunnel  Udon Restaurant  University  \\\n",
       "0               0         0  ...       0                0           0   \n",
       "1               0         0  ...       0                0           0   \n",
       "2               0         0  ...       0                0           0   \n",
       "3               0         0  ...       0                0           0   \n",
       "4               0         0  ...       0                0           0   \n",
       "\n",
       "   Vegetarian / Vegan Restaurant  Video Game Store  Video Store  \\\n",
       "0                              0                 0            0   \n",
       "1                              0                 0            0   \n",
       "2                              0                 0            0   \n",
       "3                              0                 0            0   \n",
       "4                              0                 0            0   \n",
       "\n",
       "   Vietnamese Restaurant  Wine Bar  Women's Store  Yoga Studio  \n",
       "0                      0         0              0            0  \n",
       "1                      0         0              0            0  \n",
       "2                      0         0              0            0  \n",
       "3                      0         0              0            0  \n",
       "4                      0         0              0            0  \n",
       "\n",
       "[5 rows x 201 columns]"
      ]
     },
     "execution_count": 33,
     "metadata": {},
     "output_type": "execute_result"
    }
   ],
   "source": [
    "dt_toronto_onehot.head()"
   ]
  },
  {
   "cell_type": "markdown",
   "metadata": {},
   "source": [
    "Since we are clustering the neiborhood, we can group the data by neighborhood and categories before we apply k-means clustering.\n"
   ]
  },
  {
   "cell_type": "code",
   "execution_count": 34,
   "metadata": {},
   "outputs": [],
   "source": [
    "dt_toronto_groups = dt_toronto_onehot.groupby('Neighborhood Name').sum()"
   ]
  },
  {
   "cell_type": "markdown",
   "metadata": {},
   "source": [
    "**Step(5)** Clustering the neighborhood according venue categories count\n",
    "\n",
    "We will run the k-means to cluster the neighborhood into 5 clusters."
   ]
  },
  {
   "cell_type": "code",
   "execution_count": 35,
   "metadata": {},
   "outputs": [
    {
     "data": {
      "text/plain": [
       "array([1, 0, 2, 3, 2, 1, 1, 2, 2, 4, 2, 2, 1, 0, 1, 3, 1, 1, 4],\n",
       "      dtype=int32)"
      ]
     },
     "execution_count": 35,
     "metadata": {},
     "output_type": "execute_result"
    }
   ],
   "source": [
    "kclusters = 5 \n",
    "\n",
    "kmeans = KMeans(n_clusters= kclusters, random_state = 0).fit(dt_toronto_groups)\n",
    "\n",
    "kmeans.labels_"
   ]
  },
  {
   "cell_type": "markdown",
   "metadata": {},
   "source": [
    "Now it's time to put the label and neiborhood name together.\n"
   ]
  },
  {
   "cell_type": "code",
   "execution_count": 36,
   "metadata": {},
   "outputs": [],
   "source": [
    "dt_toronto_groups['Label'] = kmeans.labels_"
   ]
  },
  {
   "cell_type": "code",
   "execution_count": 37,
   "metadata": {},
   "outputs": [
    {
     "name": "stdout",
     "output_type": "stream",
     "text": [
      "(19, 6)\n"
     ]
    },
    {
     "data": {
      "text/html": [
       "<div>\n",
       "<style scoped>\n",
       "    .dataframe tbody tr th:only-of-type {\n",
       "        vertical-align: middle;\n",
       "    }\n",
       "\n",
       "    .dataframe tbody tr th {\n",
       "        vertical-align: top;\n",
       "    }\n",
       "\n",
       "    .dataframe thead th {\n",
       "        text-align: right;\n",
       "    }\n",
       "</style>\n",
       "<table border=\"1\" class=\"dataframe\">\n",
       "  <thead>\n",
       "    <tr style=\"text-align: right;\">\n",
       "      <th></th>\n",
       "      <th>Neighborhood</th>\n",
       "      <th>Label</th>\n",
       "      <th>PostalCode</th>\n",
       "      <th>Borough</th>\n",
       "      <th>Latitude</th>\n",
       "      <th>Longitude</th>\n",
       "    </tr>\n",
       "  </thead>\n",
       "  <tbody>\n",
       "    <tr>\n",
       "      <th>0</th>\n",
       "      <td>Berczy Park</td>\n",
       "      <td>1</td>\n",
       "      <td>M5E</td>\n",
       "      <td>Downtown Toronto</td>\n",
       "      <td>43.644771</td>\n",
       "      <td>-79.373306</td>\n",
       "    </tr>\n",
       "    <tr>\n",
       "      <th>1</th>\n",
       "      <td>CN Tower,King and Spadina,Railway Lands,Harbou...</td>\n",
       "      <td>0</td>\n",
       "      <td>M5V</td>\n",
       "      <td>Downtown Toronto</td>\n",
       "      <td>43.628947</td>\n",
       "      <td>-79.394420</td>\n",
       "    </tr>\n",
       "    <tr>\n",
       "      <th>2</th>\n",
       "      <td>Central Bay Street</td>\n",
       "      <td>2</td>\n",
       "      <td>M5G</td>\n",
       "      <td>Downtown Toronto</td>\n",
       "      <td>43.657952</td>\n",
       "      <td>-79.387383</td>\n",
       "    </tr>\n",
       "    <tr>\n",
       "      <th>3</th>\n",
       "      <td>Christie</td>\n",
       "      <td>3</td>\n",
       "      <td>M6G</td>\n",
       "      <td>Downtown Toronto</td>\n",
       "      <td>43.669542</td>\n",
       "      <td>-79.422564</td>\n",
       "    </tr>\n",
       "    <tr>\n",
       "      <th>4</th>\n",
       "      <td>Church and Wellesley</td>\n",
       "      <td>2</td>\n",
       "      <td>M4Y</td>\n",
       "      <td>Downtown Toronto</td>\n",
       "      <td>43.665860</td>\n",
       "      <td>-79.383160</td>\n",
       "    </tr>\n",
       "    <tr>\n",
       "      <th>5</th>\n",
       "      <td>Commerce Court,Victoria Hotel</td>\n",
       "      <td>1</td>\n",
       "      <td>M5L</td>\n",
       "      <td>Downtown Toronto</td>\n",
       "      <td>43.648198</td>\n",
       "      <td>-79.379817</td>\n",
       "    </tr>\n",
       "    <tr>\n",
       "      <th>6</th>\n",
       "      <td>First Canadian Place,Underground city</td>\n",
       "      <td>1</td>\n",
       "      <td>M5X</td>\n",
       "      <td>Downtown Toronto</td>\n",
       "      <td>43.648429</td>\n",
       "      <td>-79.382280</td>\n",
       "    </tr>\n",
       "    <tr>\n",
       "      <th>7</th>\n",
       "      <td>Garden District, Ryerson</td>\n",
       "      <td>2</td>\n",
       "      <td>M5B</td>\n",
       "      <td>Downtown Toronto</td>\n",
       "      <td>43.657162</td>\n",
       "      <td>-79.378937</td>\n",
       "    </tr>\n",
       "    <tr>\n",
       "      <th>8</th>\n",
       "      <td>Harbourfront East,Union Station,Toronto Islands</td>\n",
       "      <td>2</td>\n",
       "      <td>M5J</td>\n",
       "      <td>Downtown Toronto</td>\n",
       "      <td>43.640816</td>\n",
       "      <td>-79.381752</td>\n",
       "    </tr>\n",
       "    <tr>\n",
       "      <th>9</th>\n",
       "      <td>Kensington Market,Chinatown,Grange Park</td>\n",
       "      <td>4</td>\n",
       "      <td>M5T</td>\n",
       "      <td>Downtown Toronto</td>\n",
       "      <td>43.653206</td>\n",
       "      <td>-79.400049</td>\n",
       "    </tr>\n",
       "    <tr>\n",
       "      <th>10</th>\n",
       "      <td>Queen's Park,Ontario Provincial Government</td>\n",
       "      <td>2</td>\n",
       "      <td>M7A</td>\n",
       "      <td>Downtown Toronto</td>\n",
       "      <td>43.662301</td>\n",
       "      <td>-79.389494</td>\n",
       "    </tr>\n",
       "    <tr>\n",
       "      <th>11</th>\n",
       "      <td>Regent Park,Harbourfront</td>\n",
       "      <td>2</td>\n",
       "      <td>M5A</td>\n",
       "      <td>Downtown Toronto</td>\n",
       "      <td>43.654260</td>\n",
       "      <td>-79.360636</td>\n",
       "    </tr>\n",
       "    <tr>\n",
       "      <th>12</th>\n",
       "      <td>Richmond,Adelaide,King</td>\n",
       "      <td>1</td>\n",
       "      <td>M5H</td>\n",
       "      <td>Downtown Toronto</td>\n",
       "      <td>43.650571</td>\n",
       "      <td>-79.384568</td>\n",
       "    </tr>\n",
       "    <tr>\n",
       "      <th>13</th>\n",
       "      <td>Rosedale</td>\n",
       "      <td>0</td>\n",
       "      <td>M4W</td>\n",
       "      <td>Downtown Toronto</td>\n",
       "      <td>43.679563</td>\n",
       "      <td>-79.377529</td>\n",
       "    </tr>\n",
       "    <tr>\n",
       "      <th>14</th>\n",
       "      <td>St. James Town</td>\n",
       "      <td>1</td>\n",
       "      <td>M5C</td>\n",
       "      <td>Downtown Toronto</td>\n",
       "      <td>43.651494</td>\n",
       "      <td>-79.375418</td>\n",
       "    </tr>\n",
       "    <tr>\n",
       "      <th>15</th>\n",
       "      <td>St. James Town,Cabbagetown</td>\n",
       "      <td>3</td>\n",
       "      <td>M4X</td>\n",
       "      <td>Downtown Toronto</td>\n",
       "      <td>43.667967</td>\n",
       "      <td>-79.367675</td>\n",
       "    </tr>\n",
       "    <tr>\n",
       "      <th>16</th>\n",
       "      <td>Stn A PO Boxes</td>\n",
       "      <td>1</td>\n",
       "      <td>M5W</td>\n",
       "      <td>Downtown Toronto</td>\n",
       "      <td>43.646435</td>\n",
       "      <td>-79.374846</td>\n",
       "    </tr>\n",
       "    <tr>\n",
       "      <th>17</th>\n",
       "      <td>Toronto Dominion Centre,Design Exchange</td>\n",
       "      <td>1</td>\n",
       "      <td>M5K</td>\n",
       "      <td>Downtown Toronto</td>\n",
       "      <td>43.647177</td>\n",
       "      <td>-79.381576</td>\n",
       "    </tr>\n",
       "    <tr>\n",
       "      <th>18</th>\n",
       "      <td>University of Toronto,Harbord</td>\n",
       "      <td>4</td>\n",
       "      <td>M5S</td>\n",
       "      <td>Downtown Toronto</td>\n",
       "      <td>43.662696</td>\n",
       "      <td>-79.400049</td>\n",
       "    </tr>\n",
       "  </tbody>\n",
       "</table>\n",
       "</div>"
      ],
      "text/plain": [
       "                                         Neighborhood  Label PostalCode  \\\n",
       "0                                         Berczy Park      1        M5E   \n",
       "1   CN Tower,King and Spadina,Railway Lands,Harbou...      0        M5V   \n",
       "2                                  Central Bay Street      2        M5G   \n",
       "3                                            Christie      3        M6G   \n",
       "4                                Church and Wellesley      2        M4Y   \n",
       "5                       Commerce Court,Victoria Hotel      1        M5L   \n",
       "6               First Canadian Place,Underground city      1        M5X   \n",
       "7                            Garden District, Ryerson      2        M5B   \n",
       "8     Harbourfront East,Union Station,Toronto Islands      2        M5J   \n",
       "9             Kensington Market,Chinatown,Grange Park      4        M5T   \n",
       "10         Queen's Park,Ontario Provincial Government      2        M7A   \n",
       "11                           Regent Park,Harbourfront      2        M5A   \n",
       "12                             Richmond,Adelaide,King      1        M5H   \n",
       "13                                           Rosedale      0        M4W   \n",
       "14                                     St. James Town      1        M5C   \n",
       "15                         St. James Town,Cabbagetown      3        M4X   \n",
       "16                                     Stn A PO Boxes      1        M5W   \n",
       "17            Toronto Dominion Centre,Design Exchange      1        M5K   \n",
       "18                      University of Toronto,Harbord      4        M5S   \n",
       "\n",
       "             Borough   Latitude  Longitude  \n",
       "0   Downtown Toronto  43.644771 -79.373306  \n",
       "1   Downtown Toronto  43.628947 -79.394420  \n",
       "2   Downtown Toronto  43.657952 -79.387383  \n",
       "3   Downtown Toronto  43.669542 -79.422564  \n",
       "4   Downtown Toronto  43.665860 -79.383160  \n",
       "5   Downtown Toronto  43.648198 -79.379817  \n",
       "6   Downtown Toronto  43.648429 -79.382280  \n",
       "7   Downtown Toronto  43.657162 -79.378937  \n",
       "8   Downtown Toronto  43.640816 -79.381752  \n",
       "9   Downtown Toronto  43.653206 -79.400049  \n",
       "10  Downtown Toronto  43.662301 -79.389494  \n",
       "11  Downtown Toronto  43.654260 -79.360636  \n",
       "12  Downtown Toronto  43.650571 -79.384568  \n",
       "13  Downtown Toronto  43.679563 -79.377529  \n",
       "14  Downtown Toronto  43.651494 -79.375418  \n",
       "15  Downtown Toronto  43.667967 -79.367675  \n",
       "16  Downtown Toronto  43.646435 -79.374846  \n",
       "17  Downtown Toronto  43.647177 -79.381576  \n",
       "18  Downtown Toronto  43.662696 -79.400049  "
      ]
     },
     "execution_count": 37,
     "metadata": {},
     "output_type": "execute_result"
    }
   ],
   "source": [
    "tmp =  dt_toronto_groups['Label'].reset_index().rename({'Neighborhood Name':'Neighborhood'}, axis = 1)\n",
    "cluster_result = pd.merge(tmp, dt_toronto) \n",
    "print(cluster_result.shape)\n",
    "cluster_result\n"
   ]
  },
  {
   "cell_type": "markdown",
   "metadata": {},
   "source": [
    "**Step(6)** Visualize the resulting on map\n"
   ]
  },
  {
   "cell_type": "code",
   "execution_count": 39,
   "metadata": {},
   "outputs": [
    {
     "name": "stdout",
     "output_type": "stream",
     "text": [
      "43.65425465 -79.3915998\n"
     ]
    },
    {
     "data": {
      "text/html": [
       "<div style=\"width:100%;\"><div style=\"position:relative;width:100%;height:0;padding-bottom:60%;\"><iframe src=\"about:blank\" style=\"position:absolute;width:100%;height:100%;left:0;top:0;border:none !important;\" data-html=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 onload=\"this.contentDocument.open();this.contentDocument.write(atob(this.getAttribute('data-html')));this.contentDocument.close();\" allowfullscreen webkitallowfullscreen mozallowfullscreen></iframe></div></div>"
      ],
      "text/plain": [
       "<folium.folium.Map at 0x7f55801ec048>"
      ]
     },
     "execution_count": 39,
     "metadata": {},
     "output_type": "execute_result"
    }
   ],
   "source": [
    "#find out the center point of the map \n",
    "lat, lng = cluster_result[['Latitude','Longitude']].max() + cluster_result[['Latitude','Longitude']].min() \n",
    "lat, lng  = lat /2, lng /2 \n",
    "print(lat, lng)\n",
    "\n",
    "# create map\n",
    "map_clusters = folium.Map(location=[lat, lng], zoom_start=13)\n",
    "\n",
    "# set color scheme for the clusters\n",
    "x = np.arange(kclusters)\n",
    "ys = [i + x + (i*x)**2 for i in range(kclusters)]\n",
    "colors_array = cm.rainbow(np.linspace(0, 1, len(ys)))\n",
    "rainbow = [colors.rgb2hex(i) for i in colors_array]\n",
    "\n",
    "# add markers to the map\n",
    "markers_colors = []\n",
    "for lat, lon, poi, cluster in zip(cluster_result['Latitude'], \n",
    "                                  cluster_result['Longitude'], \n",
    "                                  cluster_result['Neighborhood'], \n",
    "                                  kmeans.labels_):\n",
    "    label = folium.Popup(str(poi) + ' Cluster ' + str(cluster), parse_html=True)\n",
    "    folium.CircleMarker(\n",
    "        [lat, lon],\n",
    "        radius=5,\n",
    "        popup=label,\n",
    "        color=rainbow[cluster-1],\n",
    "        fill=True,\n",
    "        fill_color=rainbow[cluster-1],\n",
    "        fill_opacity=0.7).add_to(map_clusters)\n",
    "       \n",
    "map_clusters\n"
   ]
  }
 ],
 "metadata": {
  "kernelspec": {
   "display_name": "Python 3",
   "language": "python",
   "name": "python3"
  },
  "language_info": {
   "codemirror_mode": {
    "name": "ipython",
    "version": 3
   },
   "file_extension": ".py",
   "mimetype": "text/x-python",
   "name": "python",
   "nbconvert_exporter": "python",
   "pygments_lexer": "ipython3",
   "version": "3.6.9"
  }
 },
 "nbformat": 4,
 "nbformat_minor": 4
}
