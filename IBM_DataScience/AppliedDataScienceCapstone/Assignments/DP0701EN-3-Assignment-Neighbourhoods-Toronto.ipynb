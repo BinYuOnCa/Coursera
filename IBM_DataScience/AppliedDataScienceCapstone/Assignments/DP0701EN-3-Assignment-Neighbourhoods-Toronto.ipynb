{
 "cells": [
  {
   "cell_type": "markdown",
   "metadata": {},
   "source": [
    "# Segmenting and Clustering Neighborhoods in Toronto\n",
    "\n",
    "This is Peer-graded Assignment for Course Applied Data Science Capstone, Week 3 \n",
    "\n"
   ]
  },
  {
   "cell_type": "markdown",
   "metadata": {},
   "source": [
    "It Contains three parts coresponding the three submit, just click the link below:\n",
    "\n",
    "- [Scrape neighborhoods in Toronto](#0)<br>\n",
    "- [Fetching Location data of each neighborhood](#2)<br>\n",
    "- [Neighbourhoods Clustering Analysis](#5)<br>"
   ]
  },
  {
   "cell_type": "code",
   "execution_count": 1,
   "metadata": {},
   "outputs": [],
   "source": [
    "import pandas as pd\n",
    "import numpy as np\n",
    "import requests\n"
   ]
  },
  {
   "cell_type": "markdown",
   "metadata": {},
   "source": [
    "## Scrape neighborhoods in Toronto <a id=\"0\"></a>"
   ]
  },
  {
   "cell_type": "markdown",
   "metadata": {},
   "source": [
    "**Step(1)** We get all possible tables in the Wiki page via pandas function **read_html**:"
   ]
  },
  {
   "cell_type": "code",
   "execution_count": 2,
   "metadata": {},
   "outputs": [],
   "source": [
    "url = 'https://en.wikipedia.org/wiki/List_of_postal_codes_of_Canada:_M'\n",
    "res = requests.get(url)\n",
    "dfs = pd.read_html(url)"
   ]
  },
  {
   "cell_type": "markdown",
   "metadata": {},
   "source": [
    "Let's have a general idea of what we got:"
   ]
  },
  {
   "cell_type": "code",
   "execution_count": 3,
   "metadata": {},
   "outputs": [
    {
     "name": "stdout",
     "output_type": "stream",
     "text": [
      "DataFrame[0]:(180, 3)\n",
      "DataFrame[1]:(4, 18)\n",
      "DataFrame[2]:(2, 18)\n"
     ]
    }
   ],
   "source": [
    "for idx, df in enumerate(dfs):\n",
    "    print('DataFrame[{}]:{}'.format(idx, df.shape))\n",
    "    "
   ]
  },
  {
   "cell_type": "markdown",
   "metadata": {},
   "source": [
    "It's easy to guess that **ONLY** the first dataframe is what we need, which has 180 rows and 3 columns.\n",
    "\n",
    "Let's verify our thought by reviewing the first 5 rows:"
   ]
  },
  {
   "cell_type": "code",
   "execution_count": 4,
   "metadata": {},
   "outputs": [
    {
     "data": {
      "text/html": [
       "<div>\n",
       "<style scoped>\n",
       "    .dataframe tbody tr th:only-of-type {\n",
       "        vertical-align: middle;\n",
       "    }\n",
       "\n",
       "    .dataframe tbody tr th {\n",
       "        vertical-align: top;\n",
       "    }\n",
       "\n",
       "    .dataframe thead th {\n",
       "        text-align: right;\n",
       "    }\n",
       "</style>\n",
       "<table border=\"1\" class=\"dataframe\">\n",
       "  <thead>\n",
       "    <tr style=\"text-align: right;\">\n",
       "      <th></th>\n",
       "      <th>Postal code</th>\n",
       "      <th>Borough</th>\n",
       "      <th>Neighborhood</th>\n",
       "    </tr>\n",
       "  </thead>\n",
       "  <tbody>\n",
       "    <tr>\n",
       "      <th>0</th>\n",
       "      <td>M1A</td>\n",
       "      <td>Not assigned</td>\n",
       "      <td>NaN</td>\n",
       "    </tr>\n",
       "    <tr>\n",
       "      <th>1</th>\n",
       "      <td>M2A</td>\n",
       "      <td>Not assigned</td>\n",
       "      <td>NaN</td>\n",
       "    </tr>\n",
       "    <tr>\n",
       "      <th>2</th>\n",
       "      <td>M3A</td>\n",
       "      <td>North York</td>\n",
       "      <td>Parkwoods</td>\n",
       "    </tr>\n",
       "    <tr>\n",
       "      <th>3</th>\n",
       "      <td>M4A</td>\n",
       "      <td>North York</td>\n",
       "      <td>Victoria Village</td>\n",
       "    </tr>\n",
       "    <tr>\n",
       "      <th>4</th>\n",
       "      <td>M5A</td>\n",
       "      <td>Downtown Toronto</td>\n",
       "      <td>Regent Park / Harbourfront</td>\n",
       "    </tr>\n",
       "  </tbody>\n",
       "</table>\n",
       "</div>"
      ],
      "text/plain": [
       "  Postal code           Borough                Neighborhood\n",
       "0         M1A      Not assigned                         NaN\n",
       "1         M2A      Not assigned                         NaN\n",
       "2         M3A        North York                   Parkwoods\n",
       "3         M4A        North York            Victoria Village\n",
       "4         M5A  Downtown Toronto  Regent Park / Harbourfront"
      ]
     },
     "execution_count": 4,
     "metadata": {},
     "output_type": "execute_result"
    }
   ],
   "source": [
    "dfs[0].head()"
   ]
  },
  {
   "cell_type": "markdown",
   "metadata": {},
   "source": [
    "Great! \n",
    "\n",
    "Let's rename the first column name to 'PostalCode' and save it into a new variable then we are done our first step."
   ]
  },
  {
   "cell_type": "code",
   "execution_count": 5,
   "metadata": {},
   "outputs": [
    {
     "data": {
      "text/html": [
       "<div>\n",
       "<style scoped>\n",
       "    .dataframe tbody tr th:only-of-type {\n",
       "        vertical-align: middle;\n",
       "    }\n",
       "\n",
       "    .dataframe tbody tr th {\n",
       "        vertical-align: top;\n",
       "    }\n",
       "\n",
       "    .dataframe thead th {\n",
       "        text-align: right;\n",
       "    }\n",
       "</style>\n",
       "<table border=\"1\" class=\"dataframe\">\n",
       "  <thead>\n",
       "    <tr style=\"text-align: right;\">\n",
       "      <th></th>\n",
       "      <th>PostalCode</th>\n",
       "      <th>Borough</th>\n",
       "      <th>Neighborhood</th>\n",
       "    </tr>\n",
       "  </thead>\n",
       "  <tbody>\n",
       "    <tr>\n",
       "      <th>0</th>\n",
       "      <td>M1A</td>\n",
       "      <td>Not assigned</td>\n",
       "      <td>NaN</td>\n",
       "    </tr>\n",
       "    <tr>\n",
       "      <th>1</th>\n",
       "      <td>M2A</td>\n",
       "      <td>Not assigned</td>\n",
       "      <td>NaN</td>\n",
       "    </tr>\n",
       "    <tr>\n",
       "      <th>2</th>\n",
       "      <td>M3A</td>\n",
       "      <td>North York</td>\n",
       "      <td>Parkwoods</td>\n",
       "    </tr>\n",
       "    <tr>\n",
       "      <th>3</th>\n",
       "      <td>M4A</td>\n",
       "      <td>North York</td>\n",
       "      <td>Victoria Village</td>\n",
       "    </tr>\n",
       "    <tr>\n",
       "      <th>4</th>\n",
       "      <td>M5A</td>\n",
       "      <td>Downtown Toronto</td>\n",
       "      <td>Regent Park / Harbourfront</td>\n",
       "    </tr>\n",
       "  </tbody>\n",
       "</table>\n",
       "</div>"
      ],
      "text/plain": [
       "  PostalCode           Borough                Neighborhood\n",
       "0        M1A      Not assigned                         NaN\n",
       "1        M2A      Not assigned                         NaN\n",
       "2        M3A        North York                   Parkwoods\n",
       "3        M4A        North York            Victoria Village\n",
       "4        M5A  Downtown Toronto  Regent Park / Harbourfront"
      ]
     },
     "execution_count": 5,
     "metadata": {},
     "output_type": "execute_result"
    }
   ],
   "source": [
    "nb_toronto = dfs[0].rename({'Postal code':'PostalCode'}, axis='columns')\n",
    "nb_toronto.head()"
   ]
  },
  {
   "cell_type": "markdown",
   "metadata": {},
   "source": [
    "Now lets move to the data clearning procedures, as described below.\n",
    "\n",
    "**Step (2)** Ignore cells with a borough that is **Not assigned.**"
   ]
  },
  {
   "cell_type": "code",
   "execution_count": 6,
   "metadata": {},
   "outputs": [
    {
     "data": {
      "text/plain": [
       "(180, 3)"
      ]
     },
     "execution_count": 6,
     "metadata": {},
     "output_type": "execute_result"
    }
   ],
   "source": [
    "nb_toronto.shape"
   ]
  },
  {
   "cell_type": "code",
   "execution_count": 7,
   "metadata": {},
   "outputs": [
    {
     "data": {
      "text/plain": [
       "(77, 3)"
      ]
     },
     "execution_count": 7,
     "metadata": {},
     "output_type": "execute_result"
    }
   ],
   "source": [
    "nb_toronto[nb_toronto['Borough']=='Not assigned'].shape"
   ]
  },
  {
   "cell_type": "code",
   "execution_count": 8,
   "metadata": {},
   "outputs": [
    {
     "data": {
      "text/plain": [
       "(103, 3)"
      ]
     },
     "execution_count": 8,
     "metadata": {},
     "output_type": "execute_result"
    }
   ],
   "source": [
    "nb_toronto = nb_toronto[nb_toronto['Borough']!='Not assigned']\n",
    "nb_toronto.shape"
   ]
  },
  {
   "cell_type": "code",
   "execution_count": 9,
   "metadata": {},
   "outputs": [
    {
     "data": {
      "text/html": [
       "<div>\n",
       "<style scoped>\n",
       "    .dataframe tbody tr th:only-of-type {\n",
       "        vertical-align: middle;\n",
       "    }\n",
       "\n",
       "    .dataframe tbody tr th {\n",
       "        vertical-align: top;\n",
       "    }\n",
       "\n",
       "    .dataframe thead th {\n",
       "        text-align: right;\n",
       "    }\n",
       "</style>\n",
       "<table border=\"1\" class=\"dataframe\">\n",
       "  <thead>\n",
       "    <tr style=\"text-align: right;\">\n",
       "      <th></th>\n",
       "      <th>PostalCode</th>\n",
       "      <th>Borough</th>\n",
       "      <th>Neighborhood</th>\n",
       "    </tr>\n",
       "  </thead>\n",
       "  <tbody>\n",
       "    <tr>\n",
       "      <th>2</th>\n",
       "      <td>M3A</td>\n",
       "      <td>North York</td>\n",
       "      <td>Parkwoods</td>\n",
       "    </tr>\n",
       "    <tr>\n",
       "      <th>3</th>\n",
       "      <td>M4A</td>\n",
       "      <td>North York</td>\n",
       "      <td>Victoria Village</td>\n",
       "    </tr>\n",
       "    <tr>\n",
       "      <th>4</th>\n",
       "      <td>M5A</td>\n",
       "      <td>Downtown Toronto</td>\n",
       "      <td>Regent Park / Harbourfront</td>\n",
       "    </tr>\n",
       "    <tr>\n",
       "      <th>5</th>\n",
       "      <td>M6A</td>\n",
       "      <td>North York</td>\n",
       "      <td>Lawrence Manor / Lawrence Heights</td>\n",
       "    </tr>\n",
       "    <tr>\n",
       "      <th>6</th>\n",
       "      <td>M7A</td>\n",
       "      <td>Downtown Toronto</td>\n",
       "      <td>Queen's Park / Ontario Provincial Government</td>\n",
       "    </tr>\n",
       "  </tbody>\n",
       "</table>\n",
       "</div>"
      ],
      "text/plain": [
       "  PostalCode           Borough                                  Neighborhood\n",
       "2        M3A        North York                                     Parkwoods\n",
       "3        M4A        North York                              Victoria Village\n",
       "4        M5A  Downtown Toronto                    Regent Park / Harbourfront\n",
       "5        M6A        North York             Lawrence Manor / Lawrence Heights\n",
       "6        M7A  Downtown Toronto  Queen's Park / Ontario Provincial Government"
      ]
     },
     "execution_count": 9,
     "metadata": {},
     "output_type": "execute_result"
    }
   ],
   "source": [
    "nb_toronto.head()"
   ]
  },
  {
   "cell_type": "markdown",
   "metadata": {},
   "source": [
    "**Step (3)** Check duplications on postal code "
   ]
  },
  {
   "cell_type": "code",
   "execution_count": 10,
   "metadata": {},
   "outputs": [
    {
     "data": {
      "text/plain": [
       "(103,)"
      ]
     },
     "execution_count": 10,
     "metadata": {},
     "output_type": "execute_result"
    }
   ],
   "source": [
    "nb_toronto['PostalCode'].unique().shape"
   ]
  },
  {
   "cell_type": "markdown",
   "metadata": {},
   "source": [
    "Since the unique number is same with the total row number, it's proved that there's no dupoication on column Postal Code.\n"
   ]
  },
  {
   "cell_type": "markdown",
   "metadata": {},
   "source": [
    "**Stpe (4)** replace '/' with ',' in neighbourhoods combination \n"
   ]
  },
  {
   "cell_type": "code",
   "execution_count": 11,
   "metadata": {},
   "outputs": [
    {
     "data": {
      "text/html": [
       "<div>\n",
       "<style scoped>\n",
       "    .dataframe tbody tr th:only-of-type {\n",
       "        vertical-align: middle;\n",
       "    }\n",
       "\n",
       "    .dataframe tbody tr th {\n",
       "        vertical-align: top;\n",
       "    }\n",
       "\n",
       "    .dataframe thead th {\n",
       "        text-align: right;\n",
       "    }\n",
       "</style>\n",
       "<table border=\"1\" class=\"dataframe\">\n",
       "  <thead>\n",
       "    <tr style=\"text-align: right;\">\n",
       "      <th></th>\n",
       "      <th>PostalCode</th>\n",
       "      <th>Borough</th>\n",
       "      <th>Neighborhood</th>\n",
       "    </tr>\n",
       "  </thead>\n",
       "  <tbody>\n",
       "    <tr>\n",
       "      <th>2</th>\n",
       "      <td>M3A</td>\n",
       "      <td>North York</td>\n",
       "      <td>Parkwoods</td>\n",
       "    </tr>\n",
       "    <tr>\n",
       "      <th>3</th>\n",
       "      <td>M4A</td>\n",
       "      <td>North York</td>\n",
       "      <td>Victoria Village</td>\n",
       "    </tr>\n",
       "    <tr>\n",
       "      <th>4</th>\n",
       "      <td>M5A</td>\n",
       "      <td>Downtown Toronto</td>\n",
       "      <td>Regent Park,Harbourfront</td>\n",
       "    </tr>\n",
       "    <tr>\n",
       "      <th>5</th>\n",
       "      <td>M6A</td>\n",
       "      <td>North York</td>\n",
       "      <td>Lawrence Manor,Lawrence Heights</td>\n",
       "    </tr>\n",
       "    <tr>\n",
       "      <th>6</th>\n",
       "      <td>M7A</td>\n",
       "      <td>Downtown Toronto</td>\n",
       "      <td>Queen's Park,Ontario Provincial Government</td>\n",
       "    </tr>\n",
       "  </tbody>\n",
       "</table>\n",
       "</div>"
      ],
      "text/plain": [
       "  PostalCode           Borough                                Neighborhood\n",
       "2        M3A        North York                                   Parkwoods\n",
       "3        M4A        North York                            Victoria Village\n",
       "4        M5A  Downtown Toronto                    Regent Park,Harbourfront\n",
       "5        M6A        North York             Lawrence Manor,Lawrence Heights\n",
       "6        M7A  Downtown Toronto  Queen's Park,Ontario Provincial Government"
      ]
     },
     "execution_count": 11,
     "metadata": {},
     "output_type": "execute_result"
    }
   ],
   "source": [
    "nb_toronto.loc[:,'Neighborhood'] = nb_toronto.apply(lambda x: x['Neighborhood'].replace(' / ',','), axis=1)\n",
    "nb_toronto.head()"
   ]
  },
  {
   "cell_type": "markdown",
   "metadata": {},
   "source": [
    "**Step (5)** copy borough to neighborhood if neighborhood is missing\n"
   ]
  },
  {
   "cell_type": "code",
   "execution_count": 12,
   "metadata": {},
   "outputs": [
    {
     "data": {
      "text/html": [
       "<div>\n",
       "<style scoped>\n",
       "    .dataframe tbody tr th:only-of-type {\n",
       "        vertical-align: middle;\n",
       "    }\n",
       "\n",
       "    .dataframe tbody tr th {\n",
       "        vertical-align: top;\n",
       "    }\n",
       "\n",
       "    .dataframe thead th {\n",
       "        text-align: right;\n",
       "    }\n",
       "</style>\n",
       "<table border=\"1\" class=\"dataframe\">\n",
       "  <thead>\n",
       "    <tr style=\"text-align: right;\">\n",
       "      <th></th>\n",
       "      <th>PostalCode</th>\n",
       "      <th>Borough</th>\n",
       "      <th>Neighborhood</th>\n",
       "    </tr>\n",
       "  </thead>\n",
       "  <tbody>\n",
       "  </tbody>\n",
       "</table>\n",
       "</div>"
      ],
      "text/plain": [
       "Empty DataFrame\n",
       "Columns: [PostalCode, Borough, Neighborhood]\n",
       "Index: []"
      ]
     },
     "execution_count": 12,
     "metadata": {},
     "output_type": "execute_result"
    }
   ],
   "source": [
    "nb_toronto[ nb_toronto['Neighborhood'] == 'Not assigned' ]"
   ]
  },
  {
   "cell_type": "markdown",
   "metadata": {},
   "source": [
    "Looks we do not have any rows with **Not assigned** neighbourhood.\n",
    "\n",
    "To be more safe, also check **None** value for the column:"
   ]
  },
  {
   "cell_type": "code",
   "execution_count": 13,
   "metadata": {},
   "outputs": [
    {
     "data": {
      "text/html": [
       "<div>\n",
       "<style scoped>\n",
       "    .dataframe tbody tr th:only-of-type {\n",
       "        vertical-align: middle;\n",
       "    }\n",
       "\n",
       "    .dataframe tbody tr th {\n",
       "        vertical-align: top;\n",
       "    }\n",
       "\n",
       "    .dataframe thead th {\n",
       "        text-align: right;\n",
       "    }\n",
       "</style>\n",
       "<table border=\"1\" class=\"dataframe\">\n",
       "  <thead>\n",
       "    <tr style=\"text-align: right;\">\n",
       "      <th></th>\n",
       "      <th>PostalCode</th>\n",
       "      <th>Borough</th>\n",
       "      <th>Neighborhood</th>\n",
       "    </tr>\n",
       "  </thead>\n",
       "  <tbody>\n",
       "  </tbody>\n",
       "</table>\n",
       "</div>"
      ],
      "text/plain": [
       "Empty DataFrame\n",
       "Columns: [PostalCode, Borough, Neighborhood]\n",
       "Index: []"
      ]
     },
     "execution_count": 13,
     "metadata": {},
     "output_type": "execute_result"
    }
   ],
   "source": [
    "nb_toronto[ nb_toronto['Neighborhood'] == None ]"
   ]
  },
  {
   "cell_type": "code",
   "execution_count": 14,
   "metadata": {},
   "outputs": [
    {
     "data": {
      "text/plain": [
       "(103, 3)"
      ]
     },
     "execution_count": 14,
     "metadata": {},
     "output_type": "execute_result"
    }
   ],
   "source": [
    "nb_toronto.shape"
   ]
  },
  {
   "cell_type": "markdown",
   "metadata": {},
   "source": [
    "We are good for this part.\n",
    "\n",
    "**This is the end of the submition of part 1.**\n",
    "\n",
    "---"
   ]
  },
  {
   "cell_type": "markdown",
   "metadata": {},
   "source": [
    "## Fetching Location data of each neighborhood<a id=\"2\"></a>"
   ]
  },
  {
   "cell_type": "markdown",
   "metadata": {},
   "source": [
    "Since the Geocoder package can be very unreliable, we use the provided csv file as our data source of the geographical coordinates of each postal code.\n",
    "\n",
    "**Step (1)** Read the data from the given URL."
   ]
  },
  {
   "cell_type": "code",
   "execution_count": 15,
   "metadata": {},
   "outputs": [
    {
     "name": "stdout",
     "output_type": "stream",
     "text": [
      "(103, 3)\n"
     ]
    },
    {
     "data": {
      "text/html": [
       "<div>\n",
       "<style scoped>\n",
       "    .dataframe tbody tr th:only-of-type {\n",
       "        vertical-align: middle;\n",
       "    }\n",
       "\n",
       "    .dataframe tbody tr th {\n",
       "        vertical-align: top;\n",
       "    }\n",
       "\n",
       "    .dataframe thead th {\n",
       "        text-align: right;\n",
       "    }\n",
       "</style>\n",
       "<table border=\"1\" class=\"dataframe\">\n",
       "  <thead>\n",
       "    <tr style=\"text-align: right;\">\n",
       "      <th></th>\n",
       "      <th>Postal Code</th>\n",
       "      <th>Latitude</th>\n",
       "      <th>Longitude</th>\n",
       "    </tr>\n",
       "  </thead>\n",
       "  <tbody>\n",
       "    <tr>\n",
       "      <th>0</th>\n",
       "      <td>M1B</td>\n",
       "      <td>43.806686</td>\n",
       "      <td>-79.194353</td>\n",
       "    </tr>\n",
       "    <tr>\n",
       "      <th>1</th>\n",
       "      <td>M1C</td>\n",
       "      <td>43.784535</td>\n",
       "      <td>-79.160497</td>\n",
       "    </tr>\n",
       "    <tr>\n",
       "      <th>2</th>\n",
       "      <td>M1E</td>\n",
       "      <td>43.763573</td>\n",
       "      <td>-79.188711</td>\n",
       "    </tr>\n",
       "    <tr>\n",
       "      <th>3</th>\n",
       "      <td>M1G</td>\n",
       "      <td>43.770992</td>\n",
       "      <td>-79.216917</td>\n",
       "    </tr>\n",
       "    <tr>\n",
       "      <th>4</th>\n",
       "      <td>M1H</td>\n",
       "      <td>43.773136</td>\n",
       "      <td>-79.239476</td>\n",
       "    </tr>\n",
       "  </tbody>\n",
       "</table>\n",
       "</div>"
      ],
      "text/plain": [
       "  Postal Code   Latitude  Longitude\n",
       "0         M1B  43.806686 -79.194353\n",
       "1         M1C  43.784535 -79.160497\n",
       "2         M1E  43.763573 -79.188711\n",
       "3         M1G  43.770992 -79.216917\n",
       "4         M1H  43.773136 -79.239476"
      ]
     },
     "execution_count": 15,
     "metadata": {},
     "output_type": "execute_result"
    }
   ],
   "source": [
    "url = 'http://cocl.us/Geospatial_data'\n",
    "geo_df = pd.read_csv(url)\n",
    "print(geo_df.shape)\n",
    "geo_df.head()"
   ]
  },
  {
   "cell_type": "code",
   "execution_count": 16,
   "metadata": {},
   "outputs": [
    {
     "data": {
      "text/plain": [
       "Postal Code     object\n",
       "Latitude       float64\n",
       "Longitude      float64\n",
       "dtype: object"
      ]
     },
     "execution_count": 16,
     "metadata": {},
     "output_type": "execute_result"
    }
   ],
   "source": [
    "geo_df.dtypes"
   ]
  },
  {
   "cell_type": "markdown",
   "metadata": {},
   "source": [
    "To keep consistance, we removed the space in column name 'Postal Code'."
   ]
  },
  {
   "cell_type": "code",
   "execution_count": 17,
   "metadata": {},
   "outputs": [
    {
     "data": {
      "text/html": [
       "<div>\n",
       "<style scoped>\n",
       "    .dataframe tbody tr th:only-of-type {\n",
       "        vertical-align: middle;\n",
       "    }\n",
       "\n",
       "    .dataframe tbody tr th {\n",
       "        vertical-align: top;\n",
       "    }\n",
       "\n",
       "    .dataframe thead th {\n",
       "        text-align: right;\n",
       "    }\n",
       "</style>\n",
       "<table border=\"1\" class=\"dataframe\">\n",
       "  <thead>\n",
       "    <tr style=\"text-align: right;\">\n",
       "      <th></th>\n",
       "      <th>PostalCode</th>\n",
       "      <th>Latitude</th>\n",
       "      <th>Longitude</th>\n",
       "    </tr>\n",
       "  </thead>\n",
       "  <tbody>\n",
       "    <tr>\n",
       "      <th>0</th>\n",
       "      <td>M1B</td>\n",
       "      <td>43.806686</td>\n",
       "      <td>-79.194353</td>\n",
       "    </tr>\n",
       "    <tr>\n",
       "      <th>1</th>\n",
       "      <td>M1C</td>\n",
       "      <td>43.784535</td>\n",
       "      <td>-79.160497</td>\n",
       "    </tr>\n",
       "    <tr>\n",
       "      <th>2</th>\n",
       "      <td>M1E</td>\n",
       "      <td>43.763573</td>\n",
       "      <td>-79.188711</td>\n",
       "    </tr>\n",
       "    <tr>\n",
       "      <th>3</th>\n",
       "      <td>M1G</td>\n",
       "      <td>43.770992</td>\n",
       "      <td>-79.216917</td>\n",
       "    </tr>\n",
       "    <tr>\n",
       "      <th>4</th>\n",
       "      <td>M1H</td>\n",
       "      <td>43.773136</td>\n",
       "      <td>-79.239476</td>\n",
       "    </tr>\n",
       "  </tbody>\n",
       "</table>\n",
       "</div>"
      ],
      "text/plain": [
       "  PostalCode   Latitude  Longitude\n",
       "0        M1B  43.806686 -79.194353\n",
       "1        M1C  43.784535 -79.160497\n",
       "2        M1E  43.763573 -79.188711\n",
       "3        M1G  43.770992 -79.216917\n",
       "4        M1H  43.773136 -79.239476"
      ]
     },
     "execution_count": 17,
     "metadata": {},
     "output_type": "execute_result"
    }
   ],
   "source": [
    "geo_df.rename({'Postal Code':'PostalCode'}, axis=1, inplace=True)\n",
    "geo_df.head()"
   ]
  },
  {
   "cell_type": "markdown",
   "metadata": {},
   "source": [
    "**Step (2)** Merge it into the neibourhood data frame **nb_toronto** which we already populated in previous part."
   ]
  },
  {
   "cell_type": "code",
   "execution_count": 18,
   "metadata": {},
   "outputs": [
    {
     "name": "stdout",
     "output_type": "stream",
     "text": [
      "(103, 5)\n"
     ]
    },
    {
     "data": {
      "text/html": [
       "<div>\n",
       "<style scoped>\n",
       "    .dataframe tbody tr th:only-of-type {\n",
       "        vertical-align: middle;\n",
       "    }\n",
       "\n",
       "    .dataframe tbody tr th {\n",
       "        vertical-align: top;\n",
       "    }\n",
       "\n",
       "    .dataframe thead th {\n",
       "        text-align: right;\n",
       "    }\n",
       "</style>\n",
       "<table border=\"1\" class=\"dataframe\">\n",
       "  <thead>\n",
       "    <tr style=\"text-align: right;\">\n",
       "      <th></th>\n",
       "      <th>PostalCode</th>\n",
       "      <th>Borough</th>\n",
       "      <th>Neighborhood</th>\n",
       "      <th>Latitude</th>\n",
       "      <th>Longitude</th>\n",
       "    </tr>\n",
       "  </thead>\n",
       "  <tbody>\n",
       "    <tr>\n",
       "      <th>0</th>\n",
       "      <td>M3A</td>\n",
       "      <td>North York</td>\n",
       "      <td>Parkwoods</td>\n",
       "      <td>43.753259</td>\n",
       "      <td>-79.329656</td>\n",
       "    </tr>\n",
       "    <tr>\n",
       "      <th>1</th>\n",
       "      <td>M4A</td>\n",
       "      <td>North York</td>\n",
       "      <td>Victoria Village</td>\n",
       "      <td>43.725882</td>\n",
       "      <td>-79.315572</td>\n",
       "    </tr>\n",
       "    <tr>\n",
       "      <th>2</th>\n",
       "      <td>M5A</td>\n",
       "      <td>Downtown Toronto</td>\n",
       "      <td>Regent Park,Harbourfront</td>\n",
       "      <td>43.654260</td>\n",
       "      <td>-79.360636</td>\n",
       "    </tr>\n",
       "    <tr>\n",
       "      <th>3</th>\n",
       "      <td>M6A</td>\n",
       "      <td>North York</td>\n",
       "      <td>Lawrence Manor,Lawrence Heights</td>\n",
       "      <td>43.718518</td>\n",
       "      <td>-79.464763</td>\n",
       "    </tr>\n",
       "    <tr>\n",
       "      <th>4</th>\n",
       "      <td>M7A</td>\n",
       "      <td>Downtown Toronto</td>\n",
       "      <td>Queen's Park,Ontario Provincial Government</td>\n",
       "      <td>43.662301</td>\n",
       "      <td>-79.389494</td>\n",
       "    </tr>\n",
       "  </tbody>\n",
       "</table>\n",
       "</div>"
      ],
      "text/plain": [
       "  PostalCode           Borough                                Neighborhood  \\\n",
       "0        M3A        North York                                   Parkwoods   \n",
       "1        M4A        North York                            Victoria Village   \n",
       "2        M5A  Downtown Toronto                    Regent Park,Harbourfront   \n",
       "3        M6A        North York             Lawrence Manor,Lawrence Heights   \n",
       "4        M7A  Downtown Toronto  Queen's Park,Ontario Provincial Government   \n",
       "\n",
       "    Latitude  Longitude  \n",
       "0  43.753259 -79.329656  \n",
       "1  43.725882 -79.315572  \n",
       "2  43.654260 -79.360636  \n",
       "3  43.718518 -79.464763  \n",
       "4  43.662301 -79.389494  "
      ]
     },
     "execution_count": 18,
     "metadata": {},
     "output_type": "execute_result"
    }
   ],
   "source": [
    "nb_toronto_geo = pd.merge(nb_toronto, geo_df, on = ['PostalCode'])\n",
    "print(nb_toronto_geo.shape)\n",
    "nb_toronto_geo.head()"
   ]
  },
  {
   "cell_type": "markdown",
   "metadata": {},
   "source": [
    "\n",
    "**This is the end of the submition of part 2.**\n",
    "\n",
    "***\n"
   ]
  },
  {
   "cell_type": "markdown",
   "metadata": {},
   "source": [
    "## Neighbourhoods Clustering Analysis<a id=\"5\"></a>\n",
    "\n",
    "We performed the Clustering Analysis with following steps:\n",
    "- Step (1) General Idea for all Toronto neighbourhood  \n",
    "- Step (2) Narrow down to Downtown Toronto for further analysis\n",
    "- Step (3) Define Foursqure Credentials and Version and explore the neighborhood in Downtown Toronto\n",
    "- Step (4) Prepare venue category for Clustering\n",
    "- Step (5) Clustering the neighborhood according venue categories count\n",
    "- Step (6) Visualize the resulting on map\n"
   ]
  },
  {
   "cell_type": "code",
   "execution_count": 19,
   "metadata": {},
   "outputs": [],
   "source": [
    "import matplotlib.cm as cm\n",
    "import matplotlib.colors as colors\n",
    "\n",
    "from sklearn.cluster import KMeans\n",
    "import folium # map rendering library\n"
   ]
  },
  {
   "cell_type": "markdown",
   "metadata": {},
   "source": [
    "**Step (1)** Let's first get a general idea about those neibourhoods in Toronto on map, just list all of them there."
   ]
  },
  {
   "cell_type": "code",
   "execution_count": 20,
   "metadata": {},
   "outputs": [
    {
     "data": {
      "text/plain": [
       "(43.71926920000001, -79.38815804999999)"
      ]
     },
     "execution_count": 20,
     "metadata": {},
     "output_type": "execute_result"
    }
   ],
   "source": [
    "lat, lng = geo_df[['Latitude','Longitude']].max() + geo_df[['Latitude','Longitude']].min() \n",
    "\n",
    "lat, lng  = lat /2, lng /2 \n",
    "lat, lng"
   ]
  },
  {
   "cell_type": "code",
   "execution_count": 42,
   "metadata": {},
   "outputs": [
    {
     "data": {
      "text/html": [
       "<div style=\"width:100%;\"><div style=\"position:relative;width:100%;height:0;padding-bottom:60%;\"><iframe src=\"about:blank\" style=\"position:absolute;width:100%;height:100%;left:0;top:0;border:none !important;\" data-html=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 onload=\"this.contentDocument.open();this.contentDocument.write(atob(this.getAttribute('data-html')));this.contentDocument.close();\" allowfullscreen webkitallowfullscreen mozallowfullscreen></iframe></div></div>"
      ],
      "text/plain": [
       "<folium.folium.Map at 0x7f558025df98>"
      ]
     },
     "execution_count": 42,
     "metadata": {},
     "output_type": "execute_result"
    }
   ],
   "source": [
    "# create map of New York using latitude and longitude values\n",
    "map_toronto = folium.Map(location=[lat, lng], zoom_start=11)\n",
    "\n",
    "# add markers to map\n",
    "for idx, r  in nb_toronto_geo.iterrows():\n",
    "    lat, lng, bor, nb  =  r['Latitude'], r['Longitude'],r['Borough'], r['Neighborhood']\n",
    "    label = '{}, {}'.format(nb, bor)\n",
    "    label = folium.Popup(label, parse_html=True)\n",
    "    folium.CircleMarker(\n",
    "        [lat, lng],\n",
    "        radius=5,\n",
    "        popup=label,\n",
    "        color='blue',\n",
    "        fill=True,\n",
    "        fill_color='#3186cc',\n",
    "        fill_opacity=0.7,\n",
    "        parse_html=False).add_to(map_toronto)  \n",
    "    \n",
    "map_toronto"
   ]
  },
  {
   "cell_type": "markdown",
   "metadata": {},
   "source": [
    "**Step (2)** Let's focus on the borough **Downtown Toronto** only to demostrate the analysis.\n",
    "\n",
    "First we slice the orinal data frame nb_toronto_geo to nb_york, we omit the geo from the name for all data frame will have geo information from now on.\n"
   ]
  },
  {
   "cell_type": "code",
   "execution_count": 22,
   "metadata": {},
   "outputs": [
    {
     "name": "stdout",
     "output_type": "stream",
     "text": [
      "(19, 5)\n"
     ]
    },
    {
     "data": {
      "text/html": [
       "<div>\n",
       "<style scoped>\n",
       "    .dataframe tbody tr th:only-of-type {\n",
       "        vertical-align: middle;\n",
       "    }\n",
       "\n",
       "    .dataframe tbody tr th {\n",
       "        vertical-align: top;\n",
       "    }\n",
       "\n",
       "    .dataframe thead th {\n",
       "        text-align: right;\n",
       "    }\n",
       "</style>\n",
       "<table border=\"1\" class=\"dataframe\">\n",
       "  <thead>\n",
       "    <tr style=\"text-align: right;\">\n",
       "      <th></th>\n",
       "      <th>PostalCode</th>\n",
       "      <th>Borough</th>\n",
       "      <th>Neighborhood</th>\n",
       "      <th>Latitude</th>\n",
       "      <th>Longitude</th>\n",
       "    </tr>\n",
       "  </thead>\n",
       "  <tbody>\n",
       "    <tr>\n",
       "      <th>2</th>\n",
       "      <td>M5A</td>\n",
       "      <td>Downtown Toronto</td>\n",
       "      <td>Regent Park,Harbourfront</td>\n",
       "      <td>43.654260</td>\n",
       "      <td>-79.360636</td>\n",
       "    </tr>\n",
       "    <tr>\n",
       "      <th>4</th>\n",
       "      <td>M7A</td>\n",
       "      <td>Downtown Toronto</td>\n",
       "      <td>Queen's Park,Ontario Provincial Government</td>\n",
       "      <td>43.662301</td>\n",
       "      <td>-79.389494</td>\n",
       "    </tr>\n",
       "    <tr>\n",
       "      <th>9</th>\n",
       "      <td>M5B</td>\n",
       "      <td>Downtown Toronto</td>\n",
       "      <td>Garden District, Ryerson</td>\n",
       "      <td>43.657162</td>\n",
       "      <td>-79.378937</td>\n",
       "    </tr>\n",
       "    <tr>\n",
       "      <th>15</th>\n",
       "      <td>M5C</td>\n",
       "      <td>Downtown Toronto</td>\n",
       "      <td>St. James Town</td>\n",
       "      <td>43.651494</td>\n",
       "      <td>-79.375418</td>\n",
       "    </tr>\n",
       "    <tr>\n",
       "      <th>20</th>\n",
       "      <td>M5E</td>\n",
       "      <td>Downtown Toronto</td>\n",
       "      <td>Berczy Park</td>\n",
       "      <td>43.644771</td>\n",
       "      <td>-79.373306</td>\n",
       "    </tr>\n",
       "  </tbody>\n",
       "</table>\n",
       "</div>"
      ],
      "text/plain": [
       "   PostalCode           Borough                                Neighborhood  \\\n",
       "2         M5A  Downtown Toronto                    Regent Park,Harbourfront   \n",
       "4         M7A  Downtown Toronto  Queen's Park,Ontario Provincial Government   \n",
       "9         M5B  Downtown Toronto                    Garden District, Ryerson   \n",
       "15        M5C  Downtown Toronto                              St. James Town   \n",
       "20        M5E  Downtown Toronto                                 Berczy Park   \n",
       "\n",
       "     Latitude  Longitude  \n",
       "2   43.654260 -79.360636  \n",
       "4   43.662301 -79.389494  \n",
       "9   43.657162 -79.378937  \n",
       "15  43.651494 -79.375418  \n",
       "20  43.644771 -79.373306  "
      ]
     },
     "execution_count": 22,
     "metadata": {},
     "output_type": "execute_result"
    }
   ],
   "source": [
    "dt_toronto = nb_toronto_geo[nb_toronto_geo['Borough']=='Downtown Toronto']\n",
    "print(dt_toronto.shape)\n",
    "dt_toronto.head()"
   ]
  },
  {
   "cell_type": "markdown",
   "metadata": {},
   "source": [
    "Now lets show it on map"
   ]
  },
  {
   "cell_type": "code",
   "execution_count": 23,
   "metadata": {},
   "outputs": [
    {
     "data": {
      "text/plain": [
       "(43.65425465, -79.3915998)"
      ]
     },
     "execution_count": 23,
     "metadata": {},
     "output_type": "execute_result"
    }
   ],
   "source": [
    "## first we find out the center of the map\n",
    "lat, lng = dt_toronto[['Latitude','Longitude']].max() + dt_toronto[['Latitude','Longitude']].min() \n",
    "\n",
    "lat, lng  = lat /2, lng /2 \n",
    "\n",
    "lat, lng"
   ]
  },
  {
   "cell_type": "code",
   "execution_count": 41,
   "metadata": {
    "scrolled": false
   },
   "outputs": [
    {
     "data": {
      "text/html": [
       "<div style=\"width:100%;\"><div style=\"position:relative;width:100%;height:0;padding-bottom:60%;\"><iframe src=\"about:blank\" style=\"position:absolute;width:100%;height:100%;left:0;top:0;border:none !important;\" data-html=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 onload=\"this.contentDocument.open();this.contentDocument.write(atob(this.getAttribute('data-html')));this.contentDocument.close();\" allowfullscreen webkitallowfullscreen mozallowfullscreen></iframe></div></div>"
      ],
      "text/plain": [
       "<folium.folium.Map at 0x7f5580225710>"
      ]
     },
     "execution_count": 41,
     "metadata": {},
     "output_type": "execute_result"
    }
   ],
   "source": [
    "# create map of New York using latitude and longitude values\n",
    "map_dt_toronto = folium.Map(location=[lat, lng], zoom_start=13)\n",
    "\n",
    "# add markers to map\n",
    "for idx, r  in dt_toronto.iterrows():\n",
    "    lat, lng, bor, nb  =  r['Latitude'], r['Longitude'],r['Borough'], r['Neighborhood']\n",
    "    label = '{}, {}'.format(nb, bor)\n",
    "    label = folium.Popup(label, parse_html=True)\n",
    "    folium.CircleMarker(\n",
    "        [lat, lng],\n",
    "        radius=5,\n",
    "        popup=label,\n",
    "        color='blue',\n",
    "        fill=True,\n",
    "        fill_color='#3186cc',\n",
    "        fill_opacity=0.7,\n",
    "        parse_html=False).add_to(map_dt_toronto)  \n",
    "    \n",
    "map_dt_toronto"
   ]
  },
  {
   "cell_type": "markdown",
   "metadata": {},
   "source": [
    "**Step (3)** Define Foursqure Credentials and Version and explore the neighborhood in **Downtown Toronto**\n"
   ]
  },
  {
   "cell_type": "code",
   "execution_count": 25,
   "metadata": {},
   "outputs": [],
   "source": [
    "CLIENT_ID = 'Y5FK5TTSXY24B0DDCUJBGCWCL2B01DYMXZRFOXROSYNCSSYJ' \n",
    "CLIENT_SECRET = 'TUOXNZ2M4NVKE4BLA1N0XOV5CC54GIWOD0D4RF4A3CFMR3MV'\n",
    "VERSION = '20180605'\n"
   ]
  },
  {
   "cell_type": "markdown",
   "metadata": {},
   "source": [
    "We borrow the function **getNearbyVenues** from the course lab, but only keep the catogry for further analysis.\n",
    "\n"
   ]
  },
  {
   "cell_type": "code",
   "execution_count": 26,
   "metadata": {},
   "outputs": [],
   "source": [
    "def getNearbyVenues(df, radius = 700, LIMIT = 70):\n",
    "    \n",
    "    venues_list=[]\n",
    "    for idx, row in df.iterrows():\n",
    "        name, lat, lng = row['Neighborhood'], row['Latitude'], row['Longitude']    \n",
    "        # create the API request URL\n",
    "        url = 'https://api.foursquare.com/v2/venues/explore?&client_id={}&client_secret={}&v={}&ll={},{}&radius={}&limit={}'.format(\n",
    "            CLIENT_ID, \n",
    "            CLIENT_SECRET, \n",
    "            VERSION, \n",
    "            lat, \n",
    "            lng, \n",
    "            radius, \n",
    "            LIMIT)\n",
    "            \n",
    "        # make the GET request\n",
    "        results = requests.get(url).json()[\"response\"]['groups'][0]['items']\n",
    "        \n",
    "        # return only relevant information for each nearby venue\n",
    "        venues_list.append([(\n",
    "            name, \n",
    "            lat, \n",
    "            lng, \n",
    "            v['venue']['location']['lat'], \n",
    "            v['venue']['location']['lng'],  \n",
    "            v['venue']['categories'][0]['name']) for v in results])\n",
    "\n",
    "    nearby_venues = pd.DataFrame([item for venue_list in venues_list for item in venue_list])\n",
    "    nearby_venues.columns = ['Neighborhood Name', \n",
    "                  'Neighborhood Latitude', \n",
    "                  'Neighborhood Longitude', \n",
    "                  'Venue Latitude', \n",
    "                  'Venue Longitude', \n",
    "                  'Venue Category']\n",
    "    \n",
    "    return(nearby_venues)\n"
   ]
  },
  {
   "cell_type": "code",
   "execution_count": 27,
   "metadata": {},
   "outputs": [
    {
     "name": "stdout",
     "output_type": "stream",
     "text": [
      "(1174, 6)\n"
     ]
    }
   ],
   "source": [
    "venues_dt_toronto = getNearbyVenues( dt_toronto )\n",
    "print(venues_dt_toronto.shape)"
   ]
  },
  {
   "cell_type": "markdown",
   "metadata": {},
   "source": [
    "venues_dt_toronto.rename({'Neighborhood':'Neighborhood Name'}, axis = 1, inplace = True)\n",
    "venues_dt_toronto.columns"
   ]
  },
  {
   "cell_type": "code",
   "execution_count": 28,
   "metadata": {},
   "outputs": [
    {
     "data": {
      "text/html": [
       "<div>\n",
       "<style scoped>\n",
       "    .dataframe tbody tr th:only-of-type {\n",
       "        vertical-align: middle;\n",
       "    }\n",
       "\n",
       "    .dataframe tbody tr th {\n",
       "        vertical-align: top;\n",
       "    }\n",
       "\n",
       "    .dataframe thead th {\n",
       "        text-align: right;\n",
       "    }\n",
       "</style>\n",
       "<table border=\"1\" class=\"dataframe\">\n",
       "  <thead>\n",
       "    <tr style=\"text-align: right;\">\n",
       "      <th></th>\n",
       "      <th>Neighborhood Name</th>\n",
       "      <th>Neighborhood Latitude</th>\n",
       "      <th>Neighborhood Longitude</th>\n",
       "      <th>Venue Latitude</th>\n",
       "      <th>Venue Longitude</th>\n",
       "      <th>Venue Category</th>\n",
       "    </tr>\n",
       "  </thead>\n",
       "  <tbody>\n",
       "    <tr>\n",
       "      <th>0</th>\n",
       "      <td>Regent Park,Harbourfront</td>\n",
       "      <td>43.65426</td>\n",
       "      <td>-79.360636</td>\n",
       "      <td>43.653447</td>\n",
       "      <td>-79.362017</td>\n",
       "      <td>Bakery</td>\n",
       "    </tr>\n",
       "    <tr>\n",
       "      <th>1</th>\n",
       "      <td>Regent Park,Harbourfront</td>\n",
       "      <td>43.65426</td>\n",
       "      <td>-79.360636</td>\n",
       "      <td>43.653559</td>\n",
       "      <td>-79.361809</td>\n",
       "      <td>Coffee Shop</td>\n",
       "    </tr>\n",
       "    <tr>\n",
       "      <th>2</th>\n",
       "      <td>Regent Park,Harbourfront</td>\n",
       "      <td>43.65426</td>\n",
       "      <td>-79.360636</td>\n",
       "      <td>43.653249</td>\n",
       "      <td>-79.358008</td>\n",
       "      <td>Distribution Center</td>\n",
       "    </tr>\n",
       "    <tr>\n",
       "      <th>3</th>\n",
       "      <td>Regent Park,Harbourfront</td>\n",
       "      <td>43.65426</td>\n",
       "      <td>-79.360636</td>\n",
       "      <td>43.654735</td>\n",
       "      <td>-79.359874</td>\n",
       "      <td>Spa</td>\n",
       "    </tr>\n",
       "    <tr>\n",
       "      <th>4</th>\n",
       "      <td>Regent Park,Harbourfront</td>\n",
       "      <td>43.65426</td>\n",
       "      <td>-79.360636</td>\n",
       "      <td>43.656369</td>\n",
       "      <td>-79.356980</td>\n",
       "      <td>Restaurant</td>\n",
       "    </tr>\n",
       "  </tbody>\n",
       "</table>\n",
       "</div>"
      ],
      "text/plain": [
       "          Neighborhood Name  Neighborhood Latitude  Neighborhood Longitude  \\\n",
       "0  Regent Park,Harbourfront               43.65426              -79.360636   \n",
       "1  Regent Park,Harbourfront               43.65426              -79.360636   \n",
       "2  Regent Park,Harbourfront               43.65426              -79.360636   \n",
       "3  Regent Park,Harbourfront               43.65426              -79.360636   \n",
       "4  Regent Park,Harbourfront               43.65426              -79.360636   \n",
       "\n",
       "   Venue Latitude  Venue Longitude       Venue Category  \n",
       "0       43.653447       -79.362017               Bakery  \n",
       "1       43.653559       -79.361809          Coffee Shop  \n",
       "2       43.653249       -79.358008  Distribution Center  \n",
       "3       43.654735       -79.359874                  Spa  \n",
       "4       43.656369       -79.356980           Restaurant  "
      ]
     },
     "execution_count": 28,
     "metadata": {},
     "output_type": "execute_result"
    }
   ],
   "source": [
    "venues_dt_toronto.head()"
   ]
  },
  {
   "cell_type": "markdown",
   "metadata": {},
   "source": [
    "Lets have a whole picture by checking the numbers of venues for each neighborhood, and cateogry of venues."
   ]
  },
  {
   "cell_type": "code",
   "execution_count": 29,
   "metadata": {},
   "outputs": [
    {
     "data": {
      "text/html": [
       "<div>\n",
       "<style scoped>\n",
       "    .dataframe tbody tr th:only-of-type {\n",
       "        vertical-align: middle;\n",
       "    }\n",
       "\n",
       "    .dataframe tbody tr th {\n",
       "        vertical-align: top;\n",
       "    }\n",
       "\n",
       "    .dataframe thead th {\n",
       "        text-align: right;\n",
       "    }\n",
       "</style>\n",
       "<table border=\"1\" class=\"dataframe\">\n",
       "  <thead>\n",
       "    <tr style=\"text-align: right;\">\n",
       "      <th></th>\n",
       "      <th>Venue Category</th>\n",
       "    </tr>\n",
       "    <tr>\n",
       "      <th>Neighborhood Name</th>\n",
       "      <th></th>\n",
       "    </tr>\n",
       "  </thead>\n",
       "  <tbody>\n",
       "    <tr>\n",
       "      <th>Berczy Park</th>\n",
       "      <td>70</td>\n",
       "    </tr>\n",
       "    <tr>\n",
       "      <th>CN Tower,King and Spadina,Railway Lands,Harbourfront West,Bathurst Quay,South Niagara,Island airport</th>\n",
       "      <td>25</td>\n",
       "    </tr>\n",
       "    <tr>\n",
       "      <th>Central Bay Street</th>\n",
       "      <td>70</td>\n",
       "    </tr>\n",
       "    <tr>\n",
       "      <th>Christie</th>\n",
       "      <td>29</td>\n",
       "    </tr>\n",
       "    <tr>\n",
       "      <th>Church and Wellesley</th>\n",
       "      <td>70</td>\n",
       "    </tr>\n",
       "    <tr>\n",
       "      <th>Commerce Court,Victoria Hotel</th>\n",
       "      <td>70</td>\n",
       "    </tr>\n",
       "    <tr>\n",
       "      <th>First Canadian Place,Underground city</th>\n",
       "      <td>70</td>\n",
       "    </tr>\n",
       "    <tr>\n",
       "      <th>Garden District, Ryerson</th>\n",
       "      <td>70</td>\n",
       "    </tr>\n",
       "    <tr>\n",
       "      <th>Harbourfront East,Union Station,Toronto Islands</th>\n",
       "      <td>70</td>\n",
       "    </tr>\n",
       "    <tr>\n",
       "      <th>Kensington Market,Chinatown,Grange Park</th>\n",
       "      <td>70</td>\n",
       "    </tr>\n",
       "    <tr>\n",
       "      <th>Queen's Park,Ontario Provincial Government</th>\n",
       "      <td>65</td>\n",
       "    </tr>\n",
       "    <tr>\n",
       "      <th>Regent Park,Harbourfront</th>\n",
       "      <td>70</td>\n",
       "    </tr>\n",
       "    <tr>\n",
       "      <th>Richmond,Adelaide,King</th>\n",
       "      <td>70</td>\n",
       "    </tr>\n",
       "    <tr>\n",
       "      <th>Rosedale</th>\n",
       "      <td>5</td>\n",
       "    </tr>\n",
       "    <tr>\n",
       "      <th>St. James Town</th>\n",
       "      <td>70</td>\n",
       "    </tr>\n",
       "    <tr>\n",
       "      <th>St. James Town,Cabbagetown</th>\n",
       "      <td>70</td>\n",
       "    </tr>\n",
       "    <tr>\n",
       "      <th>Stn A PO Boxes</th>\n",
       "      <td>70</td>\n",
       "    </tr>\n",
       "    <tr>\n",
       "      <th>Toronto Dominion Centre,Design Exchange</th>\n",
       "      <td>70</td>\n",
       "    </tr>\n",
       "    <tr>\n",
       "      <th>University of Toronto,Harbord</th>\n",
       "      <td>70</td>\n",
       "    </tr>\n",
       "  </tbody>\n",
       "</table>\n",
       "</div>"
      ],
      "text/plain": [
       "                                                    Venue Category\n",
       "Neighborhood Name                                                 \n",
       "Berczy Park                                                     70\n",
       "CN Tower,King and Spadina,Railway Lands,Harbour...              25\n",
       "Central Bay Street                                              70\n",
       "Christie                                                        29\n",
       "Church and Wellesley                                            70\n",
       "Commerce Court,Victoria Hotel                                   70\n",
       "First Canadian Place,Underground city                           70\n",
       "Garden District, Ryerson                                        70\n",
       "Harbourfront East,Union Station,Toronto Islands                 70\n",
       "Kensington Market,Chinatown,Grange Park                         70\n",
       "Queen's Park,Ontario Provincial Government                      65\n",
       "Regent Park,Harbourfront                                        70\n",
       "Richmond,Adelaide,King                                          70\n",
       "Rosedale                                                         5\n",
       "St. James Town                                                  70\n",
       "St. James Town,Cabbagetown                                      70\n",
       "Stn A PO Boxes                                                  70\n",
       "Toronto Dominion Centre,Design Exchange                         70\n",
       "University of Toronto,Harbord                                   70"
      ]
     },
     "execution_count": 29,
     "metadata": {},
     "output_type": "execute_result"
    }
   ],
   "source": [
    "venues_dt_toronto[['Neighborhood Name','Venue Category']].groupby('Neighborhood Name').count()"
   ]
  },
  {
   "cell_type": "code",
   "execution_count": 30,
   "metadata": {},
   "outputs": [
    {
     "data": {
      "text/html": [
       "<div>\n",
       "<style scoped>\n",
       "    .dataframe tbody tr th:only-of-type {\n",
       "        vertical-align: middle;\n",
       "    }\n",
       "\n",
       "    .dataframe tbody tr th {\n",
       "        vertical-align: top;\n",
       "    }\n",
       "\n",
       "    .dataframe thead th {\n",
       "        text-align: right;\n",
       "    }\n",
       "</style>\n",
       "<table border=\"1\" class=\"dataframe\">\n",
       "  <thead>\n",
       "    <tr style=\"text-align: right;\">\n",
       "      <th></th>\n",
       "      <th>Neighborhood Name</th>\n",
       "    </tr>\n",
       "    <tr>\n",
       "      <th>Venue Category</th>\n",
       "      <th></th>\n",
       "    </tr>\n",
       "  </thead>\n",
       "  <tbody>\n",
       "    <tr>\n",
       "      <th>Coffee Shop</th>\n",
       "      <td>106</td>\n",
       "    </tr>\n",
       "    <tr>\n",
       "      <th>Café</th>\n",
       "      <td>75</td>\n",
       "    </tr>\n",
       "    <tr>\n",
       "      <th>Restaurant</th>\n",
       "      <td>40</td>\n",
       "    </tr>\n",
       "    <tr>\n",
       "      <th>Hotel</th>\n",
       "      <td>38</td>\n",
       "    </tr>\n",
       "    <tr>\n",
       "      <th>Japanese Restaurant</th>\n",
       "      <td>29</td>\n",
       "    </tr>\n",
       "    <tr>\n",
       "      <th>Park</th>\n",
       "      <td>29</td>\n",
       "    </tr>\n",
       "    <tr>\n",
       "      <th>Gastropub</th>\n",
       "      <td>26</td>\n",
       "    </tr>\n",
       "    <tr>\n",
       "      <th>Italian Restaurant</th>\n",
       "      <td>24</td>\n",
       "    </tr>\n",
       "    <tr>\n",
       "      <th>Bakery</th>\n",
       "      <td>21</td>\n",
       "    </tr>\n",
       "    <tr>\n",
       "      <th>Seafood Restaurant</th>\n",
       "      <td>20</td>\n",
       "    </tr>\n",
       "  </tbody>\n",
       "</table>\n",
       "</div>"
      ],
      "text/plain": [
       "                     Neighborhood Name\n",
       "Venue Category                        \n",
       "Coffee Shop                        106\n",
       "Café                                75\n",
       "Restaurant                          40\n",
       "Hotel                               38\n",
       "Japanese Restaurant                 29\n",
       "Park                                29\n",
       "Gastropub                           26\n",
       "Italian Restaurant                  24\n",
       "Bakery                              21\n",
       "Seafood Restaurant                  20"
      ]
     },
     "execution_count": 30,
     "metadata": {},
     "output_type": "execute_result"
    }
   ],
   "source": [
    "venues_dt_toronto[['Neighborhood Name','Venue Category']].groupby('Venue Category').count()\\\n",
    "               .sort_values(by='Neighborhood Name', ascending = False).head(10)"
   ]
  },
  {
   "cell_type": "markdown",
   "metadata": {},
   "source": [
    "We can tell that most common venue Category is: **Coffee Shop, Dafe, Restaurant, Hotel**, and **Park.**"
   ]
  },
  {
   "cell_type": "markdown",
   "metadata": {},
   "source": [
    "**Step(4)** Prepare venue category for Clustering"
   ]
  },
  {
   "cell_type": "markdown",
   "metadata": {},
   "source": [
    "We need apply one-hot encoding to the category column first. "
   ]
  },
  {
   "cell_type": "code",
   "execution_count": 31,
   "metadata": {},
   "outputs": [
    {
     "name": "stdout",
     "output_type": "stream",
     "text": [
      "(1174, 200)\n"
     ]
    }
   ],
   "source": [
    "dt_toronto_onehot = pd.get_dummies(venues_dt_toronto[['Venue Category']], prefix = \"\", prefix_sep=\"\")\n",
    "print(dt_toronto_onehot.shape)\n",
    "dt_toronto_clustering  = dt_toronto_onehot.copy()"
   ]
  },
  {
   "cell_type": "markdown",
   "metadata": {},
   "source": [
    "Now we put **neighborhood name** back to one-hot data frame as first column and rename it as **Name** just for convenience."
   ]
  },
  {
   "cell_type": "code",
   "execution_count": 32,
   "metadata": {},
   "outputs": [
    {
     "name": "stdout",
     "output_type": "stream",
     "text": [
      "(1174, 201)\n"
     ]
    }
   ],
   "source": [
    "dt_toronto_onehot = pd.concat( [venues_dt_toronto[['Neighborhood Name']], dt_toronto_onehot], axis= 1)\n",
    "print(dt_toronto_onehot.shape)"
   ]
  },
  {
   "cell_type": "code",
   "execution_count": 33,
   "metadata": {},
   "outputs": [
    {
     "data": {
      "text/html": [
       "<div>\n",
       "<style scoped>\n",
       "    .dataframe tbody tr th:only-of-type {\n",
       "        vertical-align: middle;\n",
       "    }\n",
       "\n",
       "    .dataframe tbody tr th {\n",
       "        vertical-align: top;\n",
       "    }\n",
       "\n",
       "    .dataframe thead th {\n",
       "        text-align: right;\n",
       "    }\n",
       "</style>\n",
       "<table border=\"1\" class=\"dataframe\">\n",
       "  <thead>\n",
       "    <tr style=\"text-align: right;\">\n",
       "      <th></th>\n",
       "      <th>Neighborhood Name</th>\n",
       "      <th>Airport</th>\n",
       "      <th>Airport Food Court</th>\n",
       "      <th>Airport Gate</th>\n",
       "      <th>Airport Lounge</th>\n",
       "      <th>Airport Service</th>\n",
       "      <th>Airport Terminal</th>\n",
       "      <th>American Restaurant</th>\n",
       "      <th>Animal Shelter</th>\n",
       "      <th>Aquarium</th>\n",
       "      <th>...</th>\n",
       "      <th>Tunnel</th>\n",
       "      <th>Udon Restaurant</th>\n",
       "      <th>University</th>\n",
       "      <th>Vegetarian / Vegan Restaurant</th>\n",
       "      <th>Video Game Store</th>\n",
       "      <th>Video Store</th>\n",
       "      <th>Vietnamese Restaurant</th>\n",
       "      <th>Wine Bar</th>\n",
       "      <th>Women's Store</th>\n",
       "      <th>Yoga Studio</th>\n",
       "    </tr>\n",
       "  </thead>\n",
       "  <tbody>\n",
       "    <tr>\n",
       "      <th>0</th>\n",
       "      <td>Regent Park,Harbourfront</td>\n",
       "      <td>0</td>\n",
       "      <td>0</td>\n",
       "      <td>0</td>\n",
       "      <td>0</td>\n",
       "      <td>0</td>\n",
       "      <td>0</td>\n",
       "      <td>0</td>\n",
       "      <td>0</td>\n",
       "      <td>0</td>\n",
       "      <td>...</td>\n",
       "      <td>0</td>\n",
       "      <td>0</td>\n",
       "      <td>0</td>\n",
       "      <td>0</td>\n",
       "      <td>0</td>\n",
       "      <td>0</td>\n",
       "      <td>0</td>\n",
       "      <td>0</td>\n",
       "      <td>0</td>\n",
       "      <td>0</td>\n",
       "    </tr>\n",
       "    <tr>\n",
       "      <th>1</th>\n",
       "      <td>Regent Park,Harbourfront</td>\n",
       "      <td>0</td>\n",
       "      <td>0</td>\n",
       "      <td>0</td>\n",
       "      <td>0</td>\n",
       "      <td>0</td>\n",
       "      <td>0</td>\n",
       "      <td>0</td>\n",
       "      <td>0</td>\n",
       "      <td>0</td>\n",
       "      <td>...</td>\n",
       "      <td>0</td>\n",
       "      <td>0</td>\n",
       "      <td>0</td>\n",
       "      <td>0</td>\n",
       "      <td>0</td>\n",
       "      <td>0</td>\n",
       "      <td>0</td>\n",
       "      <td>0</td>\n",
       "      <td>0</td>\n",
       "      <td>0</td>\n",
       "    </tr>\n",
       "    <tr>\n",
       "      <th>2</th>\n",
       "      <td>Regent Park,Harbourfront</td>\n",
       "      <td>0</td>\n",
       "      <td>0</td>\n",
       "      <td>0</td>\n",
       "      <td>0</td>\n",
       "      <td>0</td>\n",
       "      <td>0</td>\n",
       "      <td>0</td>\n",
       "      <td>0</td>\n",
       "      <td>0</td>\n",
       "      <td>...</td>\n",
       "      <td>0</td>\n",
       "      <td>0</td>\n",
       "      <td>0</td>\n",
       "      <td>0</td>\n",
       "      <td>0</td>\n",
       "      <td>0</td>\n",
       "      <td>0</td>\n",
       "      <td>0</td>\n",
       "      <td>0</td>\n",
       "      <td>0</td>\n",
       "    </tr>\n",
       "    <tr>\n",
       "      <th>3</th>\n",
       "      <td>Regent Park,Harbourfront</td>\n",
       "      <td>0</td>\n",
       "      <td>0</td>\n",
       "      <td>0</td>\n",
       "      <td>0</td>\n",
       "      <td>0</td>\n",
       "      <td>0</td>\n",
       "      <td>0</td>\n",
       "      <td>0</td>\n",
       "      <td>0</td>\n",
       "      <td>...</td>\n",
       "      <td>0</td>\n",
       "      <td>0</td>\n",
       "      <td>0</td>\n",
       "      <td>0</td>\n",
       "      <td>0</td>\n",
       "      <td>0</td>\n",
       "      <td>0</td>\n",
       "      <td>0</td>\n",
       "      <td>0</td>\n",
       "      <td>0</td>\n",
       "    </tr>\n",
       "    <tr>\n",
       "      <th>4</th>\n",
       "      <td>Regent Park,Harbourfront</td>\n",
       "      <td>0</td>\n",
       "      <td>0</td>\n",
       "      <td>0</td>\n",
       "      <td>0</td>\n",
       "      <td>0</td>\n",
       "      <td>0</td>\n",
       "      <td>0</td>\n",
       "      <td>0</td>\n",
       "      <td>0</td>\n",
       "      <td>...</td>\n",
       "      <td>0</td>\n",
       "      <td>0</td>\n",
       "      <td>0</td>\n",
       "      <td>0</td>\n",
       "      <td>0</td>\n",
       "      <td>0</td>\n",
       "      <td>0</td>\n",
       "      <td>0</td>\n",
       "      <td>0</td>\n",
       "      <td>0</td>\n",
       "    </tr>\n",
       "  </tbody>\n",
       "</table>\n",
       "<p>5 rows × 201 columns</p>\n",
       "</div>"
      ],
      "text/plain": [
       "          Neighborhood Name  Airport  Airport Food Court  Airport Gate  \\\n",
       "0  Regent Park,Harbourfront        0                   0             0   \n",
       "1  Regent Park,Harbourfront        0                   0             0   \n",
       "2  Regent Park,Harbourfront        0                   0             0   \n",
       "3  Regent Park,Harbourfront        0                   0             0   \n",
       "4  Regent Park,Harbourfront        0                   0             0   \n",
       "\n",
       "   Airport Lounge  Airport Service  Airport Terminal  American Restaurant  \\\n",
       "0               0                0                 0                    0   \n",
       "1               0                0                 0                    0   \n",
       "2               0                0                 0                    0   \n",
       "3               0                0                 0                    0   \n",
       "4               0                0                 0                    0   \n",
       "\n",
       "   Animal Shelter  Aquarium  ...  Tunnel  Udon Restaurant  University  \\\n",
       "0               0         0  ...       0                0           0   \n",
       "1               0         0  ...       0                0           0   \n",
       "2               0         0  ...       0                0           0   \n",
       "3               0         0  ...       0                0           0   \n",
       "4               0         0  ...       0                0           0   \n",
       "\n",
       "   Vegetarian / Vegan Restaurant  Video Game Store  Video Store  \\\n",
       "0                              0                 0            0   \n",
       "1                              0                 0            0   \n",
       "2                              0                 0            0   \n",
       "3                              0                 0            0   \n",
       "4                              0                 0            0   \n",
       "\n",
       "   Vietnamese Restaurant  Wine Bar  Women's Store  Yoga Studio  \n",
       "0                      0         0              0            0  \n",
       "1                      0         0              0            0  \n",
       "2                      0         0              0            0  \n",
       "3                      0         0              0            0  \n",
       "4                      0         0              0            0  \n",
       "\n",
       "[5 rows x 201 columns]"
      ]
     },
     "execution_count": 33,
     "metadata": {},
     "output_type": "execute_result"
    }
   ],
   "source": [
    "dt_toronto_onehot.head()"
   ]
  },
  {
   "cell_type": "markdown",
   "metadata": {},
   "source": [
    "Since we are clustering the neiborhood, we can group the data by neighborhood and categories before we apply k-means clustering.\n"
   ]
  },
  {
   "cell_type": "code",
   "execution_count": 34,
   "metadata": {},
   "outputs": [],
   "source": [
    "dt_toronto_groups = dt_toronto_onehot.groupby('Neighborhood Name').sum()"
   ]
  },
  {
   "cell_type": "markdown",
   "metadata": {},
   "source": [
    "**Step(5)** Clustering the neighborhood according venue categories count\n",
    "\n",
    "We will run the k-means to cluster the neighborhood into 5 clusters."
   ]
  },
  {
   "cell_type": "code",
   "execution_count": 35,
   "metadata": {},
   "outputs": [
    {
     "data": {
      "text/plain": [
       "array([1, 0, 2, 3, 2, 1, 1, 2, 2, 4, 2, 2, 1, 0, 1, 3, 1, 1, 4],\n",
       "      dtype=int32)"
      ]
     },
     "execution_count": 35,
     "metadata": {},
     "output_type": "execute_result"
    }
   ],
   "source": [
    "kclusters = 5 \n",
    "\n",
    "kmeans = KMeans(n_clusters= kclusters, random_state = 0).fit(dt_toronto_groups)\n",
    "\n",
    "kmeans.labels_"
   ]
  },
  {
   "cell_type": "markdown",
   "metadata": {},
   "source": [
    "Now it's time to put the label and neiborhood name together.\n"
   ]
  },
  {
   "cell_type": "code",
   "execution_count": 36,
   "metadata": {},
   "outputs": [],
   "source": [
    "dt_toronto_groups['Label'] = kmeans.labels_"
   ]
  },
  {
   "cell_type": "code",
   "execution_count": 37,
   "metadata": {},
   "outputs": [
    {
     "name": "stdout",
     "output_type": "stream",
     "text": [
      "(19, 6)\n"
     ]
    },
    {
     "data": {
      "text/html": [
       "<div>\n",
       "<style scoped>\n",
       "    .dataframe tbody tr th:only-of-type {\n",
       "        vertical-align: middle;\n",
       "    }\n",
       "\n",
       "    .dataframe tbody tr th {\n",
       "        vertical-align: top;\n",
       "    }\n",
       "\n",
       "    .dataframe thead th {\n",
       "        text-align: right;\n",
       "    }\n",
       "</style>\n",
       "<table border=\"1\" class=\"dataframe\">\n",
       "  <thead>\n",
       "    <tr style=\"text-align: right;\">\n",
       "      <th></th>\n",
       "      <th>Neighborhood</th>\n",
       "      <th>Label</th>\n",
       "      <th>PostalCode</th>\n",
       "      <th>Borough</th>\n",
       "      <th>Latitude</th>\n",
       "      <th>Longitude</th>\n",
       "    </tr>\n",
       "  </thead>\n",
       "  <tbody>\n",
       "    <tr>\n",
       "      <th>0</th>\n",
       "      <td>Berczy Park</td>\n",
       "      <td>1</td>\n",
       "      <td>M5E</td>\n",
       "      <td>Downtown Toronto</td>\n",
       "      <td>43.644771</td>\n",
       "      <td>-79.373306</td>\n",
       "    </tr>\n",
       "    <tr>\n",
       "      <th>1</th>\n",
       "      <td>CN Tower,King and Spadina,Railway Lands,Harbou...</td>\n",
       "      <td>0</td>\n",
       "      <td>M5V</td>\n",
       "      <td>Downtown Toronto</td>\n",
       "      <td>43.628947</td>\n",
       "      <td>-79.394420</td>\n",
       "    </tr>\n",
       "    <tr>\n",
       "      <th>2</th>\n",
       "      <td>Central Bay Street</td>\n",
       "      <td>2</td>\n",
       "      <td>M5G</td>\n",
       "      <td>Downtown Toronto</td>\n",
       "      <td>43.657952</td>\n",
       "      <td>-79.387383</td>\n",
       "    </tr>\n",
       "    <tr>\n",
       "      <th>3</th>\n",
       "      <td>Christie</td>\n",
       "      <td>3</td>\n",
       "      <td>M6G</td>\n",
       "      <td>Downtown Toronto</td>\n",
       "      <td>43.669542</td>\n",
       "      <td>-79.422564</td>\n",
       "    </tr>\n",
       "    <tr>\n",
       "      <th>4</th>\n",
       "      <td>Church and Wellesley</td>\n",
       "      <td>2</td>\n",
       "      <td>M4Y</td>\n",
       "      <td>Downtown Toronto</td>\n",
       "      <td>43.665860</td>\n",
       "      <td>-79.383160</td>\n",
       "    </tr>\n",
       "    <tr>\n",
       "      <th>5</th>\n",
       "      <td>Commerce Court,Victoria Hotel</td>\n",
       "      <td>1</td>\n",
       "      <td>M5L</td>\n",
       "      <td>Downtown Toronto</td>\n",
       "      <td>43.648198</td>\n",
       "      <td>-79.379817</td>\n",
       "    </tr>\n",
       "    <tr>\n",
       "      <th>6</th>\n",
       "      <td>First Canadian Place,Underground city</td>\n",
       "      <td>1</td>\n",
       "      <td>M5X</td>\n",
       "      <td>Downtown Toronto</td>\n",
       "      <td>43.648429</td>\n",
       "      <td>-79.382280</td>\n",
       "    </tr>\n",
       "    <tr>\n",
       "      <th>7</th>\n",
       "      <td>Garden District, Ryerson</td>\n",
       "      <td>2</td>\n",
       "      <td>M5B</td>\n",
       "      <td>Downtown Toronto</td>\n",
       "      <td>43.657162</td>\n",
       "      <td>-79.378937</td>\n",
       "    </tr>\n",
       "    <tr>\n",
       "      <th>8</th>\n",
       "      <td>Harbourfront East,Union Station,Toronto Islands</td>\n",
       "      <td>2</td>\n",
       "      <td>M5J</td>\n",
       "      <td>Downtown Toronto</td>\n",
       "      <td>43.640816</td>\n",
       "      <td>-79.381752</td>\n",
       "    </tr>\n",
       "    <tr>\n",
       "      <th>9</th>\n",
       "      <td>Kensington Market,Chinatown,Grange Park</td>\n",
       "      <td>4</td>\n",
       "      <td>M5T</td>\n",
       "      <td>Downtown Toronto</td>\n",
       "      <td>43.653206</td>\n",
       "      <td>-79.400049</td>\n",
       "    </tr>\n",
       "    <tr>\n",
       "      <th>10</th>\n",
       "      <td>Queen's Park,Ontario Provincial Government</td>\n",
       "      <td>2</td>\n",
       "      <td>M7A</td>\n",
       "      <td>Downtown Toronto</td>\n",
       "      <td>43.662301</td>\n",
       "      <td>-79.389494</td>\n",
       "    </tr>\n",
       "    <tr>\n",
       "      <th>11</th>\n",
       "      <td>Regent Park,Harbourfront</td>\n",
       "      <td>2</td>\n",
       "      <td>M5A</td>\n",
       "      <td>Downtown Toronto</td>\n",
       "      <td>43.654260</td>\n",
       "      <td>-79.360636</td>\n",
       "    </tr>\n",
       "    <tr>\n",
       "      <th>12</th>\n",
       "      <td>Richmond,Adelaide,King</td>\n",
       "      <td>1</td>\n",
       "      <td>M5H</td>\n",
       "      <td>Downtown Toronto</td>\n",
       "      <td>43.650571</td>\n",
       "      <td>-79.384568</td>\n",
       "    </tr>\n",
       "    <tr>\n",
       "      <th>13</th>\n",
       "      <td>Rosedale</td>\n",
       "      <td>0</td>\n",
       "      <td>M4W</td>\n",
       "      <td>Downtown Toronto</td>\n",
       "      <td>43.679563</td>\n",
       "      <td>-79.377529</td>\n",
       "    </tr>\n",
       "    <tr>\n",
       "      <th>14</th>\n",
       "      <td>St. James Town</td>\n",
       "      <td>1</td>\n",
       "      <td>M5C</td>\n",
       "      <td>Downtown Toronto</td>\n",
       "      <td>43.651494</td>\n",
       "      <td>-79.375418</td>\n",
       "    </tr>\n",
       "    <tr>\n",
       "      <th>15</th>\n",
       "      <td>St. James Town,Cabbagetown</td>\n",
       "      <td>3</td>\n",
       "      <td>M4X</td>\n",
       "      <td>Downtown Toronto</td>\n",
       "      <td>43.667967</td>\n",
       "      <td>-79.367675</td>\n",
       "    </tr>\n",
       "    <tr>\n",
       "      <th>16</th>\n",
       "      <td>Stn A PO Boxes</td>\n",
       "      <td>1</td>\n",
       "      <td>M5W</td>\n",
       "      <td>Downtown Toronto</td>\n",
       "      <td>43.646435</td>\n",
       "      <td>-79.374846</td>\n",
       "    </tr>\n",
       "    <tr>\n",
       "      <th>17</th>\n",
       "      <td>Toronto Dominion Centre,Design Exchange</td>\n",
       "      <td>1</td>\n",
       "      <td>M5K</td>\n",
       "      <td>Downtown Toronto</td>\n",
       "      <td>43.647177</td>\n",
       "      <td>-79.381576</td>\n",
       "    </tr>\n",
       "    <tr>\n",
       "      <th>18</th>\n",
       "      <td>University of Toronto,Harbord</td>\n",
       "      <td>4</td>\n",
       "      <td>M5S</td>\n",
       "      <td>Downtown Toronto</td>\n",
       "      <td>43.662696</td>\n",
       "      <td>-79.400049</td>\n",
       "    </tr>\n",
       "  </tbody>\n",
       "</table>\n",
       "</div>"
      ],
      "text/plain": [
       "                                         Neighborhood  Label PostalCode  \\\n",
       "0                                         Berczy Park      1        M5E   \n",
       "1   CN Tower,King and Spadina,Railway Lands,Harbou...      0        M5V   \n",
       "2                                  Central Bay Street      2        M5G   \n",
       "3                                            Christie      3        M6G   \n",
       "4                                Church and Wellesley      2        M4Y   \n",
       "5                       Commerce Court,Victoria Hotel      1        M5L   \n",
       "6               First Canadian Place,Underground city      1        M5X   \n",
       "7                            Garden District, Ryerson      2        M5B   \n",
       "8     Harbourfront East,Union Station,Toronto Islands      2        M5J   \n",
       "9             Kensington Market,Chinatown,Grange Park      4        M5T   \n",
       "10         Queen's Park,Ontario Provincial Government      2        M7A   \n",
       "11                           Regent Park,Harbourfront      2        M5A   \n",
       "12                             Richmond,Adelaide,King      1        M5H   \n",
       "13                                           Rosedale      0        M4W   \n",
       "14                                     St. James Town      1        M5C   \n",
       "15                         St. James Town,Cabbagetown      3        M4X   \n",
       "16                                     Stn A PO Boxes      1        M5W   \n",
       "17            Toronto Dominion Centre,Design Exchange      1        M5K   \n",
       "18                      University of Toronto,Harbord      4        M5S   \n",
       "\n",
       "             Borough   Latitude  Longitude  \n",
       "0   Downtown Toronto  43.644771 -79.373306  \n",
       "1   Downtown Toronto  43.628947 -79.394420  \n",
       "2   Downtown Toronto  43.657952 -79.387383  \n",
       "3   Downtown Toronto  43.669542 -79.422564  \n",
       "4   Downtown Toronto  43.665860 -79.383160  \n",
       "5   Downtown Toronto  43.648198 -79.379817  \n",
       "6   Downtown Toronto  43.648429 -79.382280  \n",
       "7   Downtown Toronto  43.657162 -79.378937  \n",
       "8   Downtown Toronto  43.640816 -79.381752  \n",
       "9   Downtown Toronto  43.653206 -79.400049  \n",
       "10  Downtown Toronto  43.662301 -79.389494  \n",
       "11  Downtown Toronto  43.654260 -79.360636  \n",
       "12  Downtown Toronto  43.650571 -79.384568  \n",
       "13  Downtown Toronto  43.679563 -79.377529  \n",
       "14  Downtown Toronto  43.651494 -79.375418  \n",
       "15  Downtown Toronto  43.667967 -79.367675  \n",
       "16  Downtown Toronto  43.646435 -79.374846  \n",
       "17  Downtown Toronto  43.647177 -79.381576  \n",
       "18  Downtown Toronto  43.662696 -79.400049  "
      ]
     },
     "execution_count": 37,
     "metadata": {},
     "output_type": "execute_result"
    }
   ],
   "source": [
    "tmp =  dt_toronto_groups['Label'].reset_index().rename({'Neighborhood Name':'Neighborhood'}, axis = 1)\n",
    "cluster_result = pd.merge(tmp, dt_toronto) \n",
    "print(cluster_result.shape)\n",
    "cluster_result\n"
   ]
  },
  {
   "cell_type": "markdown",
   "metadata": {},
   "source": [
    "**Step (6)** Visualize the resulting on map\n"
   ]
  },
  {
   "cell_type": "code",
   "execution_count": 43,
   "metadata": {},
   "outputs": [
    {
     "name": "stdout",
     "output_type": "stream",
     "text": [
      "43.65425465 -79.3915998\n"
     ]
    },
    {
     "data": {
      "text/html": [
       "<div style=\"width:100%;\"><div style=\"position:relative;width:100%;height:0;padding-bottom:60%;\"><iframe src=\"about:blank\" style=\"position:absolute;width:100%;height:100%;left:0;top:0;border:none !important;\" data-html=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 onload=\"this.contentDocument.open();this.contentDocument.write(atob(this.getAttribute('data-html')));this.contentDocument.close();\" allowfullscreen webkitallowfullscreen mozallowfullscreen></iframe></div></div>"
      ],
      "text/plain": [
       "<folium.folium.Map at 0x7f5578f66198>"
      ]
     },
     "execution_count": 43,
     "metadata": {},
     "output_type": "execute_result"
    }
   ],
   "source": [
    "#find out the center point of the map \n",
    "lat, lng = cluster_result[['Latitude','Longitude']].max() + cluster_result[['Latitude','Longitude']].min() \n",
    "lat, lng  = lat /2, lng /2 \n",
    "print(lat, lng)\n",
    "\n",
    "# create map\n",
    "map_clusters = folium.Map(location=[lat, lng], zoom_start=13)\n",
    "\n",
    "# set color scheme for the clusters\n",
    "x = np.arange(kclusters)\n",
    "ys = [i + x + (i*x)**2 for i in range(kclusters)]\n",
    "colors_array = cm.rainbow(np.linspace(0, 1, len(ys)))\n",
    "rainbow = [colors.rgb2hex(i) for i in colors_array]\n",
    "\n",
    "# add markers to the map\n",
    "markers_colors = []\n",
    "for lat, lon, poi, cluster in zip(cluster_result['Latitude'], \n",
    "                                  cluster_result['Longitude'], \n",
    "                                  cluster_result['Neighborhood'], \n",
    "                                  kmeans.labels_):\n",
    "    label = folium.Popup(str(poi) + ' Cluster ' + str(cluster), parse_html=True)\n",
    "    folium.CircleMarker(\n",
    "        [lat, lon],\n",
    "        radius=5,\n",
    "        popup=label,\n",
    "        color=rainbow[cluster-1],\n",
    "        fill=True,\n",
    "        fill_color=rainbow[cluster-1],\n",
    "        fill_opacity=0.7).add_to(map_clusters)\n",
    "       \n",
    "map_clusters\n"
   ]
  }
 ],
 "metadata": {
  "kernelspec": {
   "display_name": "Python 3",
   "language": "python",
   "name": "python3"
  },
  "language_info": {
   "codemirror_mode": {
    "name": "ipython",
    "version": 3
   },
   "file_extension": ".py",
   "mimetype": "text/x-python",
   "name": "python",
   "nbconvert_exporter": "python",
   "pygments_lexer": "ipython3",
   "version": "3.6.9"
  }
 },
 "nbformat": 4,
 "nbformat_minor": 4
}
